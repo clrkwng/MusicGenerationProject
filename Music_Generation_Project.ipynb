{
  "nbformat": 4,
  "nbformat_minor": 0,
  "metadata": {
    "colab": {
      "name": "Music Generation Project",
      "provenance": [],
      "include_colab_link": true
    },
    "kernelspec": {
      "name": "python3",
      "display_name": "Python 3"
    }
  },
  "cells": [
    {
      "cell_type": "markdown",
      "metadata": {
        "id": "view-in-github",
        "colab_type": "text"
      },
      "source": [
        "<a href=\"https://colab.research.google.com/github/clrkwng/MusicGenerationProject/blob/master/Music_Generation_Project.ipynb\" target=\"_parent\"><img src=\"https://colab.research.google.com/assets/colab-badge.svg\" alt=\"Open In Colab\"/></a>"
      ]
    },
    {
      "cell_type": "code",
      "metadata": {
        "id": "s5o6ftK64nuN",
        "colab_type": "code",
        "outputId": "1d7d9d48-78ca-48a1-9bd5-1949cfde31c6",
        "colab": {
          "base_uri": "https://localhost:8080/",
          "height": 683
        }
      },
      "source": [
        "#@test {\"output\": \"ignore\"}\n",
        "\n",
        "print('Installing dependencies...')\n",
        "!apt-get update -qq && apt-get install -qq libfluidsynth1 fluid-soundfont-gm build-essential libasound2-dev libjack-dev\n",
        "!pip install -qU pyfluidsynth pretty_midi\n",
        "\n",
        "!pip install -qU magenta\n",
        "\n",
        "# Hack to allow python to pick up the newly-installed fluidsynth lib. \n",
        "# This is only needed for the hosted Colab environment.\n",
        "import ctypes.util\n",
        "orig_ctypes_util_find_library = ctypes.util.find_library\n",
        "def proxy_find_library(lib):\n",
        "  if lib == 'fluidsynth':\n",
        "    return 'libfluidsynth.so.1'\n",
        "  else:\n",
        "    return orig_ctypes_util_find_library(lib)\n",
        "ctypes.util.find_library = proxy_find_library\n",
        "\n",
        "print('Importing libraries and defining some helper functions...')\n",
        "from google.colab import files\n",
        "\n",
        "import magenta.music as mm\n",
        "import magenta\n",
        "import tensorflow\n",
        "\n",
        "print('🎉 Done!')\n",
        "print(magenta.__version__)\n",
        "print(tensorflow.__version__)\n"
      ],
      "execution_count": 0,
      "outputs": [
        {
          "output_type": "stream",
          "text": [
            "Installing dependencies...\n",
            "Selecting previously unselected package fluid-soundfont-gm.\n",
            "(Reading database ... 131183 files and directories currently installed.)\n",
            "Preparing to unpack .../fluid-soundfont-gm_3.1-5.1_all.deb ...\n",
            "Unpacking fluid-soundfont-gm (3.1-5.1) ...\n",
            "Selecting previously unselected package libfluidsynth1:amd64.\n",
            "Preparing to unpack .../libfluidsynth1_1.1.9-1_amd64.deb ...\n",
            "Unpacking libfluidsynth1:amd64 (1.1.9-1) ...\n",
            "Setting up fluid-soundfont-gm (3.1-5.1) ...\n",
            "Processing triggers for libc-bin (2.27-3ubuntu1) ...\n",
            "Setting up libfluidsynth1:amd64 (1.1.9-1) ...\n",
            "Processing triggers for libc-bin (2.27-3ubuntu1) ...\n",
            "\u001b[K     |████████████████████████████████| 1.5MB 9.2MB/s \n",
            "\u001b[K     |████████████████████████████████| 204kB 54.7MB/s \n",
            "\u001b[K     |████████████████████████████████| 2.3MB 42.0MB/s \n",
            "\u001b[K     |████████████████████████████████| 1.6MB 22.9MB/s \n",
            "\u001b[K     |████████████████████████████████| 2.3MB 55.4MB/s \n",
            "\u001b[K     |████████████████████████████████| 983kB 61.6MB/s \n",
            "\u001b[K     |████████████████████████████████| 808kB 58.0MB/s \n",
            "\u001b[K     |████████████████████████████████| 184kB 53.7MB/s \n",
            "\u001b[K     |████████████████████████████████| 317kB 59.1MB/s \n",
            "\u001b[K     |████████████████████████████████| 655kB 57.7MB/s \n",
            "\u001b[?25h  Building wheel for python-rtmidi (setup.py) ... \u001b[?25l\u001b[?25hdone\n",
            "  Building wheel for pygtrie (setup.py) ... \u001b[?25l\u001b[?25hdone\n",
            "  Building wheel for sonnet (setup.py) ... \u001b[?25l\u001b[?25hdone\n",
            "  Building wheel for networkx (setup.py) ... \u001b[?25l\u001b[?25hdone\n",
            "  Building wheel for pypng (setup.py) ... \u001b[?25l\u001b[?25hdone\n",
            "\u001b[31mERROR: tensor2tensor 1.14.1 has requirement tensorflow-probability==0.7.0, but you'll have tensorflow-probability 0.7.0rc0 which is incompatible.\u001b[0m\n",
            "\u001b[31mERROR: scikit-image 0.15.0 has requirement networkx>=2.0, but you'll have networkx 1.8.1 which is incompatible.\u001b[0m\n",
            "\u001b[31mERROR: albumentations 0.1.12 has requirement imgaug<0.2.7,>=0.2.5, but you'll have imgaug 0.2.9 which is incompatible.\u001b[0m\n",
            "Importing libraries and defining some helper functions...\n",
            "WARNING:tensorflow:From /usr/local/lib/python3.6/dist-packages/magenta/music/note_sequence_io.py:60: The name tf.python_io.TFRecordWriter is deprecated. Please use tf.io.TFRecordWriter instead.\n",
            "\n",
            "WARNING:tensorflow:From /usr/local/lib/python3.6/dist-packages/magenta/pipelines/statistics.py:132: The name tf.logging.info is deprecated. Please use tf.compat.v1.logging.info instead.\n",
            "\n",
            "🎉 Done!\n",
            "1.1.7\n",
            "1.15.0-rc3\n"
          ],
          "name": "stdout"
        }
      ]
    },
    {
      "cell_type": "code",
      "metadata": {
        "id": "WQ8Cdz455N-0",
        "colab_type": "code",
        "outputId": "f0d81fdc-8b6e-47eb-a1ee-d29019a909fd",
        "colab": {
          "base_uri": "https://localhost:8080/",
          "height": 122
        }
      },
      "source": [
        "from google.colab import drive, files\n",
        "drive.mount('/content/gdrive')"
      ],
      "execution_count": 0,
      "outputs": [
        {
          "output_type": "stream",
          "text": [
            "Go to this URL in a browser: https://accounts.google.com/o/oauth2/auth?client_id=947318989803-6bn6qk8qdgf4n4g3pfee6491hc0brc4i.apps.googleusercontent.com&redirect_uri=urn%3Aietf%3Awg%3Aoauth%3A2.0%3Aoob&scope=email%20https%3A%2F%2Fwww.googleapis.com%2Fauth%2Fdocs.test%20https%3A%2F%2Fwww.googleapis.com%2Fauth%2Fdrive%20https%3A%2F%2Fwww.googleapis.com%2Fauth%2Fdrive.photos.readonly%20https%3A%2F%2Fwww.googleapis.com%2Fauth%2Fpeopleapi.readonly&response_type=code\n",
            "\n",
            "Enter your authorization code:\n",
            "··········\n",
            "Mounted at /content/gdrive\n"
          ],
          "name": "stdout"
        }
      ]
    },
    {
      "cell_type": "code",
      "metadata": {
        "id": "SRJ_tXpj6LPz",
        "colab_type": "code",
        "colab": {}
      },
      "source": [
        "# with open('/content/drive/My Drive/foo.txt', 'w') as f:\n",
        "#   f.write('Hello Google Drive!')\n",
        "# !cat /content/drive/My\\ Drive/foo.txt"
      ],
      "execution_count": 0,
      "outputs": []
    },
    {
      "cell_type": "code",
      "metadata": {
        "id": "VC02L7oA8mcd",
        "colab_type": "code",
        "outputId": "16c77dd3-e98f-4901-9959-5143a8788fe9",
        "colab": {
          "base_uri": "https://localhost:8080/",
          "height": 34
        }
      },
      "source": [
        "midiSource = \"/content/gdrive/My Drive/MusicGenFolder/mozart_eine_kleine.mid\"\n",
        "print(midiSource)\n"
      ],
      "execution_count": 0,
      "outputs": [
        {
          "output_type": "stream",
          "text": [
            "/content/gdrive/My Drive/MusicGenFolder/mozart_eine_kleine.mid\n"
          ],
          "name": "stdout"
        }
      ]
    },
    {
      "cell_type": "code",
      "metadata": {
        "id": "oXeYlvJH8-Kn",
        "colab_type": "code",
        "outputId": "bb7296e1-056f-482d-b0da-13451abc1aca",
        "colab": {
          "base_uri": "https://localhost:8080/",
          "height": 71
        }
      },
      "source": [
        "noteSeq = mm.midi_file_to_note_sequence(midiSource);"
      ],
      "execution_count": 0,
      "outputs": [
        {
          "output_type": "stream",
          "text": [
            "WARNING:tensorflow:From /usr/local/lib/python3.6/dist-packages/magenta/music/midi_io.py:192: The name tf.gfile.Open is deprecated. Please use tf.io.gfile.GFile instead.\n",
            "\n"
          ],
          "name": "stdout"
        }
      ]
    },
    {
      "cell_type": "code",
      "metadata": {
        "id": "iZX1k35E9oDA",
        "colab_type": "code",
        "outputId": "c1fe31d5-fcb7-4303-d281-356747be04b4",
        "colab": {
          "base_uri": "https://localhost:8080/",
          "height": 252
        }
      },
      "source": [
        "mm.play_sequence(noteSeq)\n",
        "mm.plot_sequence(noteSeq)"
      ],
      "execution_count": 0,
      "outputs": [
        {
          "output_type": "display_data",
          "data": {
            "text/html": [
              "<div id=\"id_1\"> </div>"
            ],
            "text/plain": [
              "<IPython.core.display.HTML object>"
            ]
          },
          "metadata": {
            "tags": []
          }
        },
        {
          "output_type": "display_data",
          "data": {
            "application/javascript": [
              "\n",
              "(function(root) {\n",
              "  function now() {\n",
              "    return new Date();\n",
              "  }\n",
              "\n",
              "  var force = true;\n",
              "\n",
              "  if (typeof (root._bokeh_onload_callbacks) === \"undefined\" || force === true) {\n",
              "    root._bokeh_onload_callbacks = [];\n",
              "    root._bokeh_is_loading = undefined;\n",
              "  }\n",
              "\n",
              "  var JS_MIME_TYPE = 'application/javascript';\n",
              "  var HTML_MIME_TYPE = 'text/html';\n",
              "  var EXEC_MIME_TYPE = 'application/vnd.bokehjs_exec.v0+json';\n",
              "  var CLASS_NAME = 'output_bokeh rendered_html';\n",
              "\n",
              "  /**\n",
              "   * Render data to the DOM node\n",
              "   */\n",
              "  function render(props, node) {\n",
              "    var script = document.createElement(\"script\");\n",
              "    node.appendChild(script);\n",
              "  }\n",
              "\n",
              "  /**\n",
              "   * Handle when an output is cleared or removed\n",
              "   */\n",
              "  function handleClearOutput(event, handle) {\n",
              "    var cell = handle.cell;\n",
              "\n",
              "    var id = cell.output_area._bokeh_element_id;\n",
              "    var server_id = cell.output_area._bokeh_server_id;\n",
              "    // Clean up Bokeh references\n",
              "    if (id != null && id in Bokeh.index) {\n",
              "      Bokeh.index[id].model.document.clear();\n",
              "      delete Bokeh.index[id];\n",
              "    }\n",
              "\n",
              "    if (server_id !== undefined) {\n",
              "      // Clean up Bokeh references\n",
              "      var cmd = \"from bokeh.io.state import curstate; print(curstate().uuid_to_server['\" + server_id + \"'].get_sessions()[0].document.roots[0]._id)\";\n",
              "      cell.notebook.kernel.execute(cmd, {\n",
              "        iopub: {\n",
              "          output: function(msg) {\n",
              "            var id = msg.content.text.trim();\n",
              "            if (id in Bokeh.index) {\n",
              "              Bokeh.index[id].model.document.clear();\n",
              "              delete Bokeh.index[id];\n",
              "            }\n",
              "          }\n",
              "        }\n",
              "      });\n",
              "      // Destroy server and session\n",
              "      var cmd = \"import bokeh.io.notebook as ion; ion.destroy_server('\" + server_id + \"')\";\n",
              "      cell.notebook.kernel.execute(cmd);\n",
              "    }\n",
              "  }\n",
              "\n",
              "  /**\n",
              "   * Handle when a new output is added\n",
              "   */\n",
              "  function handleAddOutput(event, handle) {\n",
              "    var output_area = handle.output_area;\n",
              "    var output = handle.output;\n",
              "\n",
              "    // limit handleAddOutput to display_data with EXEC_MIME_TYPE content only\n",
              "    if ((output.output_type != \"display_data\") || (!output.data.hasOwnProperty(EXEC_MIME_TYPE))) {\n",
              "      return\n",
              "    }\n",
              "\n",
              "    var toinsert = output_area.element.find(\".\" + CLASS_NAME.split(' ')[0]);\n",
              "\n",
              "    if (output.metadata[EXEC_MIME_TYPE][\"id\"] !== undefined) {\n",
              "      toinsert[toinsert.length - 1].firstChild.textContent = output.data[JS_MIME_TYPE];\n",
              "      // store reference to embed id on output_area\n",
              "      output_area._bokeh_element_id = output.metadata[EXEC_MIME_TYPE][\"id\"];\n",
              "    }\n",
              "    if (output.metadata[EXEC_MIME_TYPE][\"server_id\"] !== undefined) {\n",
              "      var bk_div = document.createElement(\"div\");\n",
              "      bk_div.innerHTML = output.data[HTML_MIME_TYPE];\n",
              "      var script_attrs = bk_div.children[0].attributes;\n",
              "      for (var i = 0; i < script_attrs.length; i++) {\n",
              "        toinsert[toinsert.length - 1].firstChild.setAttribute(script_attrs[i].name, script_attrs[i].value);\n",
              "      }\n",
              "      // store reference to server id on output_area\n",
              "      output_area._bokeh_server_id = output.metadata[EXEC_MIME_TYPE][\"server_id\"];\n",
              "    }\n",
              "  }\n",
              "\n",
              "  function register_renderer(events, OutputArea) {\n",
              "\n",
              "    function append_mime(data, metadata, element) {\n",
              "      // create a DOM node to render to\n",
              "      var toinsert = this.create_output_subarea(\n",
              "        metadata,\n",
              "        CLASS_NAME,\n",
              "        EXEC_MIME_TYPE\n",
              "      );\n",
              "      this.keyboard_manager.register_events(toinsert);\n",
              "      // Render to node\n",
              "      var props = {data: data, metadata: metadata[EXEC_MIME_TYPE]};\n",
              "      render(props, toinsert[toinsert.length - 1]);\n",
              "      element.append(toinsert);\n",
              "      return toinsert\n",
              "    }\n",
              "\n",
              "    /* Handle when an output is cleared or removed */\n",
              "    events.on('clear_output.CodeCell', handleClearOutput);\n",
              "    events.on('delete.Cell', handleClearOutput);\n",
              "\n",
              "    /* Handle when a new output is added */\n",
              "    events.on('output_added.OutputArea', handleAddOutput);\n",
              "\n",
              "    /**\n",
              "     * Register the mime type and append_mime function with output_area\n",
              "     */\n",
              "    OutputArea.prototype.register_mime_type(EXEC_MIME_TYPE, append_mime, {\n",
              "      /* Is output safe? */\n",
              "      safe: true,\n",
              "      /* Index of renderer in `output_area.display_order` */\n",
              "      index: 0\n",
              "    });\n",
              "  }\n",
              "\n",
              "  // register the mime type if in Jupyter Notebook environment and previously unregistered\n",
              "  if (root.Jupyter !== undefined) {\n",
              "    var events = require('base/js/events');\n",
              "    var OutputArea = require('notebook/js/outputarea').OutputArea;\n",
              "\n",
              "    if (OutputArea.prototype.mime_types().indexOf(EXEC_MIME_TYPE) == -1) {\n",
              "      register_renderer(events, OutputArea);\n",
              "    }\n",
              "  }\n",
              "\n",
              "  \n",
              "  if (typeof (root._bokeh_timeout) === \"undefined\" || force === true) {\n",
              "    root._bokeh_timeout = Date.now() + 5000;\n",
              "    root._bokeh_failed_load = false;\n",
              "  }\n",
              "\n",
              "  var NB_LOAD_WARNING = {'data': {'text/html':\n",
              "     \"<div style='background-color: #fdd'>\\n\"+\n",
              "     \"<p>\\n\"+\n",
              "     \"BokehJS does not appear to have successfully loaded. If loading BokehJS from CDN, this \\n\"+\n",
              "     \"may be due to a slow or bad network connection. Possible fixes:\\n\"+\n",
              "     \"</p>\\n\"+\n",
              "     \"<ul>\\n\"+\n",
              "     \"<li>re-rerun `output_notebook()` to attempt to load from CDN again, or</li>\\n\"+\n",
              "     \"<li>use INLINE resources instead, as so:</li>\\n\"+\n",
              "     \"</ul>\\n\"+\n",
              "     \"<code>\\n\"+\n",
              "     \"from bokeh.resources import INLINE\\n\"+\n",
              "     \"output_notebook(resources=INLINE)\\n\"+\n",
              "     \"</code>\\n\"+\n",
              "     \"</div>\"}};\n",
              "\n",
              "  function display_loaded() {\n",
              "    var el = document.getElementById(null);\n",
              "    if (el != null) {\n",
              "      el.textContent = \"BokehJS is loading...\";\n",
              "    }\n",
              "    if (root.Bokeh !== undefined) {\n",
              "      if (el != null) {\n",
              "        el.textContent = \"BokehJS \" + root.Bokeh.version + \" successfully loaded.\";\n",
              "      }\n",
              "    } else if (Date.now() < root._bokeh_timeout) {\n",
              "      setTimeout(display_loaded, 100)\n",
              "    }\n",
              "  }\n",
              "\n",
              "\n",
              "  function run_callbacks() {\n",
              "    try {\n",
              "      root._bokeh_onload_callbacks.forEach(function(callback) { callback() });\n",
              "    }\n",
              "    finally {\n",
              "      delete root._bokeh_onload_callbacks\n",
              "    }\n",
              "    console.info(\"Bokeh: all callbacks have finished\");\n",
              "  }\n",
              "\n",
              "  function load_libs(js_urls, callback) {\n",
              "    root._bokeh_onload_callbacks.push(callback);\n",
              "    if (root._bokeh_is_loading > 0) {\n",
              "      console.log(\"Bokeh: BokehJS is being loaded, scheduling callback at\", now());\n",
              "      return null;\n",
              "    }\n",
              "    if (js_urls == null || js_urls.length === 0) {\n",
              "      run_callbacks();\n",
              "      return null;\n",
              "    }\n",
              "    console.log(\"Bokeh: BokehJS not loaded, scheduling load and callback at\", now());\n",
              "    root._bokeh_is_loading = js_urls.length;\n",
              "    for (var i = 0; i < js_urls.length; i++) {\n",
              "      var url = js_urls[i];\n",
              "      var s = document.createElement('script');\n",
              "      s.src = url;\n",
              "      s.async = false;\n",
              "      s.onreadystatechange = s.onload = function() {\n",
              "        root._bokeh_is_loading--;\n",
              "        if (root._bokeh_is_loading === 0) {\n",
              "          console.log(\"Bokeh: all BokehJS libraries loaded\");\n",
              "          run_callbacks()\n",
              "        }\n",
              "      };\n",
              "      s.onerror = function() {\n",
              "        console.warn(\"failed to load library \" + url);\n",
              "      };\n",
              "      console.log(\"Bokeh: injecting script tag for BokehJS library: \", url);\n",
              "      document.getElementsByTagName(\"head\")[0].appendChild(s);\n",
              "    }\n",
              "  };\n",
              "\n",
              "  var js_urls = [\"https://cdn.pydata.org/bokeh/release/bokeh-1.0.4.min.js\", \"https://cdn.pydata.org/bokeh/release/bokeh-widgets-1.0.4.min.js\", \"https://cdn.pydata.org/bokeh/release/bokeh-tables-1.0.4.min.js\", \"https://cdn.pydata.org/bokeh/release/bokeh-gl-1.0.4.min.js\"];\n",
              "\n",
              "  var inline_js = [\n",
              "    function(Bokeh) {\n",
              "      Bokeh.set_log_level(\"info\");\n",
              "    },\n",
              "    \n",
              "    function(Bokeh) {\n",
              "      \n",
              "    },\n",
              "    function(Bokeh) {\n",
              "      console.log(\"Bokeh: injecting CSS: https://cdn.pydata.org/bokeh/release/bokeh-1.0.4.min.css\");\n",
              "      Bokeh.embed.inject_css(\"https://cdn.pydata.org/bokeh/release/bokeh-1.0.4.min.css\");\n",
              "      console.log(\"Bokeh: injecting CSS: https://cdn.pydata.org/bokeh/release/bokeh-widgets-1.0.4.min.css\");\n",
              "      Bokeh.embed.inject_css(\"https://cdn.pydata.org/bokeh/release/bokeh-widgets-1.0.4.min.css\");\n",
              "      console.log(\"Bokeh: injecting CSS: https://cdn.pydata.org/bokeh/release/bokeh-tables-1.0.4.min.css\");\n",
              "      Bokeh.embed.inject_css(\"https://cdn.pydata.org/bokeh/release/bokeh-tables-1.0.4.min.css\");\n",
              "    }\n",
              "  ];\n",
              "\n",
              "  function run_inline_js() {\n",
              "    \n",
              "    if ((root.Bokeh !== undefined) || (force === true)) {\n",
              "      for (var i = 0; i < inline_js.length; i++) {\n",
              "        inline_js[i].call(root, root.Bokeh);\n",
              "      }} else if (Date.now() < root._bokeh_timeout) {\n",
              "      setTimeout(run_inline_js, 100);\n",
              "    } else if (!root._bokeh_failed_load) {\n",
              "      console.log(\"Bokeh: BokehJS failed to load within specified timeout.\");\n",
              "      root._bokeh_failed_load = true;\n",
              "    } else if (force !== true) {\n",
              "      var cell = $(document.getElementById(null)).parents('.cell').data().cell;\n",
              "      cell.output_area.append_execute_result(NB_LOAD_WARNING)\n",
              "    }\n",
              "\n",
              "  }\n",
              "\n",
              "  if (root._bokeh_is_loading === 0) {\n",
              "    console.log(\"Bokeh: BokehJS loaded, going straight to plotting\");\n",
              "    run_inline_js();\n",
              "  } else {\n",
              "    load_libs(js_urls, function() {\n",
              "      console.log(\"Bokeh: BokehJS plotting callback run at\", now());\n",
              "      run_inline_js();\n",
              "    });\n",
              "  }\n",
              "}(window));"
            ],
            "application/vnd.bokehjs_load.v0+json": "\n(function(root) {\n  function now() {\n    return new Date();\n  }\n\n  var force = true;\n\n  if (typeof (root._bokeh_onload_callbacks) === \"undefined\" || force === true) {\n    root._bokeh_onload_callbacks = [];\n    root._bokeh_is_loading = undefined;\n  }\n\n  \n\n  \n  if (typeof (root._bokeh_timeout) === \"undefined\" || force === true) {\n    root._bokeh_timeout = Date.now() + 5000;\n    root._bokeh_failed_load = false;\n  }\n\n  var NB_LOAD_WARNING = {'data': {'text/html':\n     \"<div style='background-color: #fdd'>\\n\"+\n     \"<p>\\n\"+\n     \"BokehJS does not appear to have successfully loaded. If loading BokehJS from CDN, this \\n\"+\n     \"may be due to a slow or bad network connection. Possible fixes:\\n\"+\n     \"</p>\\n\"+\n     \"<ul>\\n\"+\n     \"<li>re-rerun `output_notebook()` to attempt to load from CDN again, or</li>\\n\"+\n     \"<li>use INLINE resources instead, as so:</li>\\n\"+\n     \"</ul>\\n\"+\n     \"<code>\\n\"+\n     \"from bokeh.resources import INLINE\\n\"+\n     \"output_notebook(resources=INLINE)\\n\"+\n     \"</code>\\n\"+\n     \"</div>\"}};\n\n  function display_loaded() {\n    var el = document.getElementById(null);\n    if (el != null) {\n      el.textContent = \"BokehJS is loading...\";\n    }\n    if (root.Bokeh !== undefined) {\n      if (el != null) {\n        el.textContent = \"BokehJS \" + root.Bokeh.version + \" successfully loaded.\";\n      }\n    } else if (Date.now() < root._bokeh_timeout) {\n      setTimeout(display_loaded, 100)\n    }\n  }\n\n\n  function run_callbacks() {\n    try {\n      root._bokeh_onload_callbacks.forEach(function(callback) { callback() });\n    }\n    finally {\n      delete root._bokeh_onload_callbacks\n    }\n    console.info(\"Bokeh: all callbacks have finished\");\n  }\n\n  function load_libs(js_urls, callback) {\n    root._bokeh_onload_callbacks.push(callback);\n    if (root._bokeh_is_loading > 0) {\n      console.log(\"Bokeh: BokehJS is being loaded, scheduling callback at\", now());\n      return null;\n    }\n    if (js_urls == null || js_urls.length === 0) {\n      run_callbacks();\n      return null;\n    }\n    console.log(\"Bokeh: BokehJS not loaded, scheduling load and callback at\", now());\n    root._bokeh_is_loading = js_urls.length;\n    for (var i = 0; i < js_urls.length; i++) {\n      var url = js_urls[i];\n      var s = document.createElement('script');\n      s.src = url;\n      s.async = false;\n      s.onreadystatechange = s.onload = function() {\n        root._bokeh_is_loading--;\n        if (root._bokeh_is_loading === 0) {\n          console.log(\"Bokeh: all BokehJS libraries loaded\");\n          run_callbacks()\n        }\n      };\n      s.onerror = function() {\n        console.warn(\"failed to load library \" + url);\n      };\n      console.log(\"Bokeh: injecting script tag for BokehJS library: \", url);\n      document.getElementsByTagName(\"head\")[0].appendChild(s);\n    }\n  };\n\n  var js_urls = [\"https://cdn.pydata.org/bokeh/release/bokeh-1.0.4.min.js\", \"https://cdn.pydata.org/bokeh/release/bokeh-widgets-1.0.4.min.js\", \"https://cdn.pydata.org/bokeh/release/bokeh-tables-1.0.4.min.js\", \"https://cdn.pydata.org/bokeh/release/bokeh-gl-1.0.4.min.js\"];\n\n  var inline_js = [\n    function(Bokeh) {\n      Bokeh.set_log_level(\"info\");\n    },\n    \n    function(Bokeh) {\n      \n    },\n    function(Bokeh) {\n      console.log(\"Bokeh: injecting CSS: https://cdn.pydata.org/bokeh/release/bokeh-1.0.4.min.css\");\n      Bokeh.embed.inject_css(\"https://cdn.pydata.org/bokeh/release/bokeh-1.0.4.min.css\");\n      console.log(\"Bokeh: injecting CSS: https://cdn.pydata.org/bokeh/release/bokeh-widgets-1.0.4.min.css\");\n      Bokeh.embed.inject_css(\"https://cdn.pydata.org/bokeh/release/bokeh-widgets-1.0.4.min.css\");\n      console.log(\"Bokeh: injecting CSS: https://cdn.pydata.org/bokeh/release/bokeh-tables-1.0.4.min.css\");\n      Bokeh.embed.inject_css(\"https://cdn.pydata.org/bokeh/release/bokeh-tables-1.0.4.min.css\");\n    }\n  ];\n\n  function run_inline_js() {\n    \n    if ((root.Bokeh !== undefined) || (force === true)) {\n      for (var i = 0; i < inline_js.length; i++) {\n        inline_js[i].call(root, root.Bokeh);\n      }} else if (Date.now() < root._bokeh_timeout) {\n      setTimeout(run_inline_js, 100);\n    } else if (!root._bokeh_failed_load) {\n      console.log(\"Bokeh: BokehJS failed to load within specified timeout.\");\n      root._bokeh_failed_load = true;\n    } else if (force !== true) {\n      var cell = $(document.getElementById(null)).parents('.cell').data().cell;\n      cell.output_area.append_execute_result(NB_LOAD_WARNING)\n    }\n\n  }\n\n  if (root._bokeh_is_loading === 0) {\n    console.log(\"Bokeh: BokehJS loaded, going straight to plotting\");\n    run_inline_js();\n  } else {\n    load_libs(js_urls, function() {\n      console.log(\"Bokeh: BokehJS plotting callback run at\", now());\n      run_inline_js();\n    });\n  }\n}(window));"
          },
          "metadata": {
            "tags": []
          }
        },
        {
          "output_type": "display_data",
          "data": {
            "text/html": [
              "\n",
              "\n",
              "\n",
              "\n",
              "\n",
              "\n",
              "  <div class=\"bk-root\" id=\"7f50fd32-4b9d-458e-a841-d04450ad3fc1\" data-root-id=\"1001\"></div>\n"
            ]
          },
          "metadata": {
            "tags": []
          }
        },
        {
          "output_type": "display_data",
          "data": {
            "application/javascript": [
              "(function(root) {\n",
              "  function embed_document(root) {\n",
              "    \n",
              "  var docs_json = {\"61058161-b6ae-4d8c-901e-20ed4961a86d\":{\"roots\":{\"references\":[{\"attributes\":{\"below\":[{\"id\":\"1010\",\"type\":\"LinearAxis\"}],\"left\":[{\"id\":\"1015\",\"type\":\"LinearAxis\"}],\"plot_height\":200,\"plot_width\":500,\"renderers\":[{\"id\":\"1010\",\"type\":\"LinearAxis\"},{\"id\":\"1014\",\"type\":\"Grid\"},{\"id\":\"1015\",\"type\":\"LinearAxis\"},{\"id\":\"1019\",\"type\":\"Grid\"},{\"id\":\"1027\",\"type\":\"BoxAnnotation\"},{\"id\":\"1040\",\"type\":\"GlyphRenderer\"}],\"title\":{\"id\":\"1042\",\"type\":\"Title\"},\"toolbar\":{\"id\":\"1025\",\"type\":\"Toolbar\"},\"x_range\":{\"id\":\"1002\",\"type\":\"DataRange1d\"},\"x_scale\":{\"id\":\"1006\",\"type\":\"LinearScale\"},\"y_range\":{\"id\":\"1004\",\"type\":\"DataRange1d\"},\"y_scale\":{\"id\":\"1008\",\"type\":\"LinearScale\"}},\"id\":\"1001\",\"subtype\":\"Figure\",\"type\":\"Plot\"},{\"attributes\":{\"bottom\":{\"field\":\"bottom\"},\"fill_alpha\":{\"field\":\"fill_alpha\"},\"fill_color\":{\"value\":\"#d53e4f\"},\"left\":{\"field\":\"start_time\"},\"right\":{\"field\":\"end_time\"},\"top\":{\"field\":\"top\"}},\"id\":\"1038\",\"type\":\"Quad\"},{\"attributes\":{\"axis_label\":\"time (sec)\",\"formatter\":{\"id\":\"1045\",\"type\":\"BasicTickFormatter\"},\"plot\":{\"id\":\"1001\",\"subtype\":\"Figure\",\"type\":\"Plot\"},\"ticker\":{\"id\":\"1011\",\"type\":\"BasicTicker\"}},\"id\":\"1010\",\"type\":\"LinearAxis\"},{\"attributes\":{},\"id\":\"1011\",\"type\":\"BasicTicker\"},{\"attributes\":{\"callback\":null,\"data\":{\"bottom\":{\"__ndarray__\":\"ZmZmZmamUEDNzMzMzExLQM3MzMzMzE5AzczMzMzMSEBmZmZmZqZQQM3MzMzMTEtAzczMzMzMTkDNzMzMzMxIQGZmZmZmplBAzczMzMzMTkBmZmZmZqZQQGZmZmZmplFAzczMzMxMS0BmZmZmZmZSQGZmZmZm5lFAzczMzMzMTUDNzMzMzExMQGZmZmZmJlFAZmZmZmbmUUDNzMzMzMxNQM3MzMzMTExAZmZmZmYmUUBmZmZmZuZRQM3MzMzMzE1AZmZmZmYmUUBmZmZmZmZQQGZmZmZmJlFAzczMzMzMTkDNzMzMzMxOQGZmZmZmplBAzczMzMxMS0DNzMzMzExLQGZmZmZmplBAzczMzMxMS0BmZmZmZqZRQGZmZmZmJlFAZmZmZmamUEDNzMzMzExLQGZmZmZmplBAZmZmZmZmUEDNzMzMzMxOQM3MzMzMzE5AZmZmZmZmUEDNzMzMzMxOQGZmZmZmJlFAZmZmZmbmUUBmZmZmZmZQQM3MzMzMzE5AZmZmZmYmUUBmZmZmZqZQQM3MzMzMTEtAzczMzMxMS0BmZmZmZqZQQM3MzMzMTEtAZmZmZmamUUBmZmZmZiZRQGZmZmZmplBAzczMzMxMS0BmZmZmZqZQQGZmZmZmZlBAzczMzMzMTkDNzMzMzMxOQGZmZmZmZlBAzczMzMzMTkBmZmZmZiZRQGZmZmZm5lFAZmZmZmZmUEDNzMzMzMxOQGZmZmZmplBAzczMzMxMS0DNzMzMzExNQM3MzMzMzE5AZmZmZmamUEBmZmZmZqZQQGZmZmZmZlBAzczMzMzMT0BmZmZmZmZQQGZmZmZmplBAzczMzMxMS0DNzMzMzExNQM3MzMzMzE5AZmZmZmamUEBmZmZmZqZRQGZmZmZmJlFAZmZmZmamUEBmZmZmZiZRQGZmZmZmplFAzczMzMxMS0DNzMzMzExNQM3MzMzMzE5AZmZmZmamUUBmZmZmZmZSQGZmZmZm5lFAZmZmZmamUUBmZmZmZuZRQM3MzMzMTEtAzczMzMxMTUDNzMzMzMxOQGZmZmZmZlJAZmZmZmamUUBmZmZmZmZSQGZmZmZm5lFAZmZmZmbmUkBmZmZmZmZSQGZmZmZm5lFAZmZmZmbmUUBmZmZmZuZRQM3MzMzMzE5AZmZmZmbmUUBmZmZmZqZRQGZmZmZmplFAZmZmZmamUUDNzMzMzMxPQGZmZmZmplFAZmZmZmYmUUDNzMzMzMxNQGZmZmZmJlFAZmZmZmYmUUDNzMzMzMxNQGZmZmZmplBAZmZmZmZmUEDNzMzMzMxOQM3MzMzMzE9AZmZmZmZmUEDNzMzMzMxOQGZmZmZmplBAzczMzMxMTUBmZmZmZiZRQM3MzMzMzE5AZmZmZmamUUBmZmZmZqZRQGZmZmZmZlJAZmZmZmbmUUBmZmZmZuZSQGZmZmZmZlJAZmZmZmbmUUBmZmZmZuZRQGZmZmZm5lFAzczMzMzMTkBmZmZmZuZRQGZmZmZmplFAZmZmZmamUUBmZmZmZqZRQM3MzMzMzE9AZmZmZmamUUBmZmZmZiZRQM3MzMzMzE1AZmZmZmYmUUBmZmZmZiZRQM3MzMzMzE1AZmZmZmamUEBmZmZmZmZQQM3MzMzMzE5AzczMzMzMT0BmZmZmZmZQQM3MzMzMzE5AZmZmZmamUEDNzMzMzExNQGZmZmZmJlFAzczMzMzMTkBmZmZmZqZRQGZmZmZmplBAzczMzMxMS0BmZmZmZqZRQM3MzMzMTEtAZmZmZmamUEDNzMzMzExLQA==\",\"dtype\":\"float64\",\"shape\":[167]},\"duration\":{\"__ndarray__\":\"zMzMzMzM7D/MzMzMzMzsPwAAAAAAgNM/AAAAAACA0z/OzMzMzEzrP87MzMzMTOs/AAAAAACA0z8AAAAAAIDTPwAAAAAAgNM/AAAAAACA0z8AAAAAAIDTPwAAAAAAgNM/mZmZmZk5AkCcmZmZmTnyP9DMzMzMzOw/0MzMzMzM7D8wMzMzMzPTPwAAAAAAgNM/yMzMzMxM6z/IzMzMzMzsPzAzMzMzM9M/AAAAAACA0z8AAAAAAIDTPzgzMzMzM+M/AAAAAACA0z/w/////3/TPwAAAAAAgNM/mJmZmZk58j+YmZmZmTnyPzAzMzMzM+M/MDMzMzMz4z8wMzMzMzPjP9DMzMzMzOw/QDMzMzMz4z8AAAAAAIDTPwAAAAAAgNM/YGZmZmYm0j8wMzMzMzPjPwAAAAAAgNM/gGZmZmYm0j8wMzMzMzPjPzAzMzMzM+M/0MzMzMzM7D8wMzMzMzPjPwAAAAAAgNM/AAAAAACA0z9gZmZmZibSPzAzMzMzM+M/AAAAAACA0z9gZmZmZibSP0AzMzMzM+M/MDMzMzMz4z/AzMzMzMzsPzAzMzMzM+M/AAAAAACA0z8AAAAAAIDTP0BmZmZmJtI/QDMzMzMz4z8AAAAAAIDTP4BmZmZmJtI/IDMzMzMz4z9AMzMzMzPjP+DMzMzMzOw/IDMzMzMz4z8AAAAAAIDTPwAAAAAAgNM/gGZmZmYm0j9AMzMzMzPjP0AzMzMzM9M/QDMzMzMz0z9AMzMzMzPTP0AzMzMzM9M/QDMzMzMz0z8AAAAAAIDDPwAAAAAAgMM/AAAAAACAwz8AAAAAAIDDP4BmZmZmJtI/QDMzMzMz0z9AMzMzMzPTP0AzMzMzM9M/QDMzMzMz0z8AAAAAAIDDPwAAAAAAgMM/AAAAAACAwz8AAAAAAIDDP4BmZmZmJtI/QDMzMzMz0z9AMzMzMzPTP0AzMzMzM9M/QDMzMzMz0z8AAAAAAIDDPwAAAAAAgMM/AAAAAACAwz8AAAAAAIDDPwAzMzMzM9M/ADMzMzMz0z8AMzMzMzPTP5CZmZmZOfI/MDMzMzOT8z8wMzMzM5PzP6CZmZmZOfI/oJmZmZk58j8AAAAAAIDTP4BmZmZmJtI/QDMzMzMz0z8AMzMzMzPTPzAzMzMzM/M/AAAAAACA0z+AZmZmZibSP0AzMzMzM9M/ADMzMzMz0z8wMzMzMzPzPwAAAAAAgNM/gGZmZmYm0j9AMzMzMzPjP0AzMzMzM9M/QDMzMzMz0z9AMzMzMzPjPwAAAAAAgNM/gGZmZmYm0j8gMzMzMzPjP0AzMzMzM9M/QDMzMzMz0z9AMzMzMzPjPyAzMzMzM+M/IDMzMzMz4z9AMzMzMzPjP0AzMzMzM+M/QDMzMzMz8z8gMzMzM5PzPyAzMzMzk/M/oJmZmZk58j+gmZmZmTnyPwAAAAAAgNM/gGZmZmYm0j8AMzMzMzPTPwAzMzMzM9M/IDMzMzMz8z8AAAAAAIDTP4BmZmZmJtI/gDMzMzMz0z8AMzMzMzPTP0AzMzMzM/M/AAAAAACA0z+AZmZmZibSP0AzMzMzM+M/ADMzMzMz0z+AMzMzMzPTP0AzMzMzM+M/AAAAAACA0z+AZmZmZibSPwAzMzMzM+M/gDMzMzMz0z8AMzMzMzPTP0AzMzMzM+M/QDMzMzMz4z9AMzMzMzPjP0AzMzMzM+M/QDMzMzMz4z8gMzMzMzPzP0AzMzMzM+M/QDMzMzMz4z9AMzMzMzPjP0AzMzMzM+M/QDMzMzMz8z9AMzMzMzPzPw==\",\"dtype\":\"float64\",\"shape\":[167]},\"end_time\":{\"__ndarray__\":\"zMzMzMzM7D/MzMzMzMzsP2ZmZmZmRvM/ZmZmZmZG8z/NzMzMzGwAQM3MzMzMbABAzczMzMw8A0DNzMzMzDwDQDMzMzMzowVAmZmZmZkJCEAAAAAAAHAKQGZmZmZm1gxAZmZmZma2EkDNzMzMzPQSQM3MzMzMzBZAzczMzMzMFkAAAAAAAAAYQM3MzMzMBBhAmZmZmZlpG0CZmZmZmZkbQMzMzMzMzBxAmZmZmZnRHEDMzMzMzAQeQDMzMzMzMx9AAAAAAAA4H0CZmZmZmTUgQDMzMzMzzyBAAAAAAAAUI0AAAAAAABQjQGZmZmZmZiRAZmZmZmZmJECZmZmZmZklQDMzMzMzMyZAzczMzMzMJkAzMzMzM88mQM3MzMzMaCdAmZmZmZn3J0AAAAAAAAAoQAAAAAAAnChAzczMzMwqKUAzMzMzMzMpQGZmZmZmZipAAAAAAAAAK0CZmZmZmZkrQAAAAAAAnCtAmZmZmZk1LEBmZmZmZsQsQMzMzMzMzCxAzMzMzMxoLUCZmZmZmfctQAAAAAAAAC5AMzMzMzMzL0DMzMzMzMwvQDMzMzMzMzBAZmZmZmY0MEAzMzMzM4EwQJmZmZmZyDBAzczMzMzMMEDNzMzMzBoxQDMzMzMzYjFAZmZmZmZmMUAAAAAAAAAyQM3MzMzMTDJAmZmZmZmZMkDNzMzMzJoyQJmZmZmZ5zJAAAAAAAAvM0AzMzMzMzMzQAAAAAAAgDNAAAAAAACAM0AAAAAAAIAzQAAAAAAAgDNAzczMzMzMM0DNzMzMzPMzQDMzMzMzGjRAmZmZmZlANEAAAAAAAGc0QAAAAAAArzRAMzMzMzOzNEAzMzMzM7M0QDMzMzMzszRAAAAAAAAANUAAAAAAACc1QGZmZmZmTTVAzczMzMxzNUAzMzMzM5o1QDMzMzMz4jVAZmZmZmbmNUBmZmZmZuY1QGZmZmZm5jVAMzMzMzMzNkAzMzMzM1o2QJmZmZmZgDZAAAAAAACnNkBmZmZmZs02QJmZmZmZGTdAmZmZmZkZN0CZmZmZmRk3QGZmZmZm8DdAMzMzMzM5OUAzMzMzMzk5QM3MzMzMVjpAzczMzMxWOkBmZmZmZrQ6QM3MzMzM+zpAzczMzMxMO0CZmZmZmZk7QJmZmZmZmTtAmZmZmZnnO0AAAAAAAC88QAAAAAAAgDxAzMzMzMzMPEDMzMzMzMw8QMzMzMzMGj1AMzMzMzNiPUBmZmZmZmY9QDMzMzMzsz1AAAAAAAAAPkAAAAAAAAA+QAAAAAAATj5AZmZmZmaVPkCZmZmZmZk+QGZmZmZm5j5AMzMzMzMzP0AzMzMzMzM/QMzMzMzMzD9AzMzMzMzMP0AzMzMzMzNAQDMzMzMzM0BAzczMzMzMQEBmZmZmZmlBQGZmZmZmaUFAMzMzMzP4QUAzMzMzM/hBQAAAAAAAJ0JAMzMzM7NKQkAzMzMzM3NCQJmZmZmZmUJAmZmZmZmZQkCZmZmZmcBCQM3MzMxM5EJAzczMzMwMQ0AzMzMzMzNDQDMzMzMzM0NAMzMzMzNaQ0BmZmZm5n1DQAAAAAAAgENAZmZmZmamQ0DNzMzMzMxDQM3MzMzMzENAzczMzMzzQ0AAAAAAgBdEQJmZmZmZGURAAAAAAABAREBmZmZmZmZEQGZmZmZmZkRAMzMzMzOzREAzMzMzM7NEQAAAAAAAAEVAAAAAAAAARUCZmZmZmZlFQGZmZmZm5kVAZmZmZmbmRUAzMzMzMzNGQDMzMzMzM0ZAzczMzMzMRkDNzMzMzMxGQA==\",\"dtype\":\"float64\",\"shape\":[167]},\"fill_alpha\":{\"__ndarray__\":\"AAAAAACA5T8AAAAAAIDlPwAAAAAAgOQ/AAAAAADA5T8AAAAAAEDmPwAAAAAAwOY/AAAAAAAA5T8AAAAAAIDnPwAAAAAAQOc/AAAAAABA5T8AAAAAAEDnPwAAAAAAwOo/AAAAAABA6T8AAAAAAMDtPwAAAAAAgOY/AAAAAABA6z8AAAAAAEDnPwAAAAAAwOU/AAAAAAAA5z8AAAAAAIDqPwAAAAAAgOY/AAAAAACA5j8AAAAAAIDoPwAAAAAAAOo/AAAAAABA5z8AAAAAAMDkPwAAAAAAQOo/AAAAAACA5j8AAAAAAMDlPwAAAAAAwOo/AAAAAACA5T8AAAAAAIDoPwAAAAAAwOc/AAAAAACA5z8AAAAAAIDqPwAAAAAAAOg/AAAAAABA5j8AAAAAAADnPwAAAAAAQOg/AAAAAABA5z8AAAAAAADqPwAAAAAAQOk/AAAAAACA6D8AAAAAAADpPwAAAAAAgOo/AAAAAADA7T8AAAAAAEDkPwAAAAAAgOg/AAAAAAAA6T8AAAAAAADnPwAAAAAAwOY/AAAAAACA5z8AAAAAAIDnPwAAAAAAAOg/AAAAAACA6j8AAAAAAMDoPwAAAAAAgOY/AAAAAABA6D8AAAAAAIDnPwAAAAAAAOY/AAAAAABA7D8AAAAAAADqPwAAAAAAQOc/AAAAAACA6D8AAAAAAEDpPwAAAAAAAOw/AAAAAABA5T8AAAAAAEDpPwAAAAAAAOw/AAAAAAAA6z8AAAAAAADrPwAAAAAAAOs/AAAAAADA6j8AAAAAAMDqPwAAAAAAgOg/AAAAAADA6D8AAAAAAMDqPwAAAAAAAOw/AAAAAADA6D8AAAAAAMDoPwAAAAAAwOg/AAAAAACA6z8AAAAAAMDsPwAAAAAAQOs/AAAAAACA6D8AAAAAAMDpPwAAAAAAwOs/AAAAAAAA5z8AAAAAAADnPwAAAAAAAOc/AAAAAAAA6z8AAAAAAMDsPwAAAAAAQOw/AAAAAAAA6D8AAAAAAADpPwAAAAAAAOg/AAAAAAAA6D8AAAAAAADoPwAAAAAAAO0/AAAAAABA4D8AAAAAAEDgPwAAAAAAwOE/AAAAAADA4T8AAAAAAIDePwAAAAAAgNs/AAAAAADA4D8AAAAAAADgPwAAAAAAANw/AAAAAACA4T8AAAAAAEDgPwAAAAAAwOA/AAAAAABA4T8AAAAAAEDiPwAAAAAAQOI/AAAAAABA4T8AAAAAAADgPwAAAAAAwOA/AAAAAAAA4j8AAAAAAADiPwAAAAAAQOA/AAAAAAAA3j8AAAAAAIDjPwAAAAAAgN4/AAAAAACA4j8AAAAAAEDhPwAAAAAAQOo/AAAAAACA5j8AAAAAAADqPwAAAAAAgOs/AAAAAABA6D8AAAAAAIDgPwAAAAAAgOA/AAAAAABA4T8AAAAAAEDhPwAAAAAAAN0/AAAAAACA2z8AAAAAAADgPwAAAAAAQOA/AAAAAAAA2z8AAAAAAEDhPwAAAAAAQOA/AAAAAABA4j8AAAAAAIDhPwAAAAAAQOM/AAAAAADA4T8AAAAAAADhPwAAAAAAQOA/AAAAAABA4j8AAAAAAEDiPwAAAAAAgOA/AAAAAADA4D8AAAAAAADgPwAAAAAAgOI/AAAAAABA4T8AAAAAAMDhPwAAAAAAAOE/AAAAAACA6j8AAAAAAEDnPwAAAAAAAOk/AAAAAACA6j8AAAAAAEDqPwAAAAAAwOk/AAAAAAAA6z8AAAAAAMDvPwAAAAAAwOw/AAAAAABA6j8AAAAAAADuPw==\",\"dtype\":\"float64\",\"shape\":[167]},\"index\":[0,1,2,3,4,5,6,7,8,9,10,11,12,13,14,15,16,17,18,19,20,21,22,23,24,25,26,27,28,29,30,31,32,33,34,35,36,37,38,39,40,41,42,43,44,45,46,47,48,49,50,51,52,53,54,55,56,57,58,59,60,61,62,63,64,65,66,67,68,69,70,71,72,73,74,75,76,77,78,79,80,81,82,83,84,85,86,87,88,89,90,91,92,93,94,95,96,97,98,99,100,101,102,103,104,105,106,107,108,109,110,111,112,113,114,115,116,117,118,119,120,121,122,123,124,125,126,127,128,129,130,131,132,133,134,135,136,137,138,139,140,141,142,143,144,145,146,147,148,149,150,151,152,153,154,155,156,157,158,159,160,161,162,163,164,165,166],\"instrument\":[0,0,0,0,0,0,0,0,0,0,0,0,0,0,0,0,0,0,0,0,0,0,0,0,0,0,0,0,0,0,0,0,0,0,0,0,0,0,0,0,0,0,0,0,0,0,0,0,0,0,0,0,0,0,0,0,0,0,0,0,0,0,0,0,0,0,0,0,0,0,0,0,0,0,0,0,0,0,0,0,0,0,0,0,0,0,0,0,0,0,0,0,0,0,0,0,0,0,0,0,0,0,0,0,0,0,0,0,0,0,0,0,0,0,0,0,0,0,0,0,0,0,0,0,0,0,0,0,0,0,0,0,0,0,0,0,0,0,0,0,0,0,0,0,0,0,0,0,0,0,0,0,0,0,0,0,0,0,0,0,0,0,0,0,0,0,0],\"pitch\":[67,55,62,50,67,55,62,50,67,62,67,71,55,74,72,60,57,69,72,60,57,69,72,60,69,66,69,62,62,67,55,55,67,55,71,69,67,55,67,66,62,62,66,62,69,72,66,62,69,67,55,55,67,55,71,69,67,55,67,66,62,62,66,62,69,72,66,62,67,55,59,62,67,67,66,64,66,67,55,59,62,67,71,69,67,69,71,55,59,62,71,74,72,71,72,55,59,62,74,71,74,72,76,74,72,72,72,62,72,71,71,71,64,71,69,60,69,69,60,67,66,62,64,66,62,67,59,69,62,71,71,74,72,76,74,72,72,72,62,72,71,71,71,64,71,69,60,69,69,60,67,66,62,64,66,62,67,59,69,62,71,67,55,71,55,67,55],\"program\":[0,0,0,0,0,0,0,0,0,0,0,0,0,0,0,0,0,0,0,0,0,0,0,0,0,0,0,0,0,0,0,0,0,0,0,0,0,0,0,0,0,0,0,0,0,0,0,0,0,0,0,0,0,0,0,0,0,0,0,0,0,0,0,0,0,0,0,0,0,0,0,0,0,0,0,0,0,0,0,0,0,0,0,0,0,0,0,0,0,0,0,0,0,0,0,0,0,0,0,0,0,0,0,0,0,0,0,0,0,0,0,0,0,0,0,0,0,0,0,0,0,0,0,0,0,0,0,0,0,0,0,0,0,0,0,0,0,0,0,0,0,0,0,0,0,0,0,0,0,0,0,0,0,0,0,0,0,0,0,0,0,0,0,0,0,0,0],\"start_time\":{\"__ndarray__\":\"AAAAAAAAAAAAAAAAAAAAAMzMzMzMzOw/zMzMzMzM7D8zMzMzMzPzPzMzMzMzM/M/zczMzMzMAEDNzMzMzMwAQDMzMzMzMwNAmZmZmZmZBUAAAAAAAAAIQGZmZmZmZgpAMzMzMzMzA0DMzMzMzMwMQDMzMzMzMxNAMzMzMzMzE0DNzMzMzMwWQM3MzMzMzBZAAAAAAAAAGEAAAAAAAAAYQJmZmZmZmRtAmZmZmZmZG0DMzMzMzMwcQMzMzMzMzBxAAAAAAAAAHkAzMzMzMzMfQDMzMzMzMyBAzczMzMzMIEDNzMzMzMwgQDMzMzMzMyNAMzMzMzMzI0BmZmZmZmYkQGZmZmZmZiRAmZmZmZmZJUAzMzMzMzMmQM3MzMzMzCZAZmZmZmZmJ0DNzMzMzMwmQAAAAAAAAChAmZmZmZmZKEAAAAAAAAAoQDMzMzMzMylAMzMzMzMzKUBmZmZmZmYqQAAAAAAAACtAmZmZmZmZK0AzMzMzMzMsQJmZmZmZmStAzMzMzMzMLEBmZmZmZmYtQMzMzMzMzCxAAAAAAAAALkAAAAAAAAAuQDMzMzMzMy9AzMzMzMzML0AzMzMzMzMwQAAAAAAAgDBAMzMzMzMzMEDNzMzMzMwwQJmZmZmZGTFAzczMzMzMMEBmZmZmZmYxQGZmZmZmZjFAAAAAAAAAMkDNzMzMzEwyQJmZmZmZmTJAZmZmZmbmMkCZmZmZmZkyQDMzMzMzMzNAMzMzMzMzM0AzMzMzMzMzQDMzMzMzMzNAAAAAAACAM0DNzMzMzMwzQDMzMzMz8zNAmZmZmZkZNEAAAAAAAEA0QGZmZmZmZjRAZmZmZmZmNEBmZmZmZmY0QGZmZmZmZjRAMzMzMzOzNEAAAAAAAAA1QGZmZmZmJjVAzczMzMxMNUAzMzMzM3M1QJmZmZmZmTVAmZmZmZmZNUCZmZmZmZk1QJmZmZmZmTVAZmZmZmbmNUAzMzMzMzM2QJmZmZmZWTZAAAAAAACANkBmZmZmZqY2QM3MzMzMzDZAzczMzMzMNkDNzMzMzMw2QM3MzMzMzDZAAAAAAAAAOEAAAAAAAAA4QDMzMzMzMzlAMzMzMzMzOUBmZmZmZmY6QDMzMzMzszpAAAAAAAAAO0DNzMzMzEw7QGZmZmZmZjpAmZmZmZmZO0BmZmZmZuY7QDMzMzMzMzxAAAAAAACAPECZmZmZmZk7QMzMzMzMzDxAmZmZmZkZPUDMzMzMzMw8QGZmZmZmZj1AMzMzMzOzPUBmZmZmZmY9QAAAAAAAAD5AzMzMzMxMPkAAAAAAAAA+QJmZmZmZmT5AZmZmZmbmPkCZmZmZmZk+QDMzMzMzMz9AMzMzMzMzP0DMzMzMzMw/QMzMzMzMzD9AMzMzMzMzQEDNzMzMzMxAQM3MzMzMzEBAZmZmZmZmQUBmZmZmZmZBQAAAAAAAAEJAZmZmZmYmQkDNzMzMzExCQDMzMzMzc0JAAAAAAAAAQkCZmZmZmZlCQAAAAAAAwEJAZmZmZmbmQkDNzMzMzAxDQJmZmZmZmUJAMzMzMzMzQ0CZmZmZmVlDQDMzMzMzM0NAAAAAAACAQ0BmZmZmZqZDQAAAAAAAgENAzczMzMzMQ0AzMzMzM/NDQM3MzMzMzENAmZmZmZkZREAAAAAAAEBEQJmZmZmZGURAZmZmZmZmREBmZmZmZmZEQDMzMzMzs0RAMzMzMzOzREAAAAAAAABFQJmZmZmZmUVAmZmZmZmZRUBmZmZmZuZFQGZmZmZm5kVAMzMzMzMzRkAzMzMzMzNGQA==\",\"dtype\":\"float64\",\"shape\":[167]},\"top\":{\"__ndarray__\":\"mpmZmZnZUEAzMzMzM7NLQDMzMzMzM09AMzMzMzMzSUCamZmZmdlQQDMzMzMzs0tAMzMzMzMzT0AzMzMzMzNJQJqZmZmZ2VBAMzMzMzMzT0CamZmZmdlQQJqZmZmZ2VFAMzMzMzOzS0CamZmZmZlSQJqZmZmZGVJAMzMzMzMzTkAzMzMzM7NMQJqZmZmZWVFAmpmZmZkZUkAzMzMzMzNOQDMzMzMzs0xAmpmZmZlZUUCamZmZmRlSQDMzMzMzM05AmpmZmZlZUUCamZmZmZlQQJqZmZmZWVFAMzMzMzMzT0AzMzMzMzNPQJqZmZmZ2VBAMzMzMzOzS0AzMzMzM7NLQJqZmZmZ2VBAMzMzMzOzS0CamZmZmdlRQJqZmZmZWVFAmpmZmZnZUEAzMzMzM7NLQJqZmZmZ2VBAmpmZmZmZUEAzMzMzMzNPQDMzMzMzM09AmpmZmZmZUEAzMzMzMzNPQJqZmZmZWVFAmpmZmZkZUkCamZmZmZlQQDMzMzMzM09AmpmZmZlZUUCamZmZmdlQQDMzMzMzs0tAMzMzMzOzS0CamZmZmdlQQDMzMzMzs0tAmpmZmZnZUUCamZmZmVlRQJqZmZmZ2VBAMzMzMzOzS0CamZmZmdlQQJqZmZmZmVBAMzMzMzMzT0AzMzMzMzNPQJqZmZmZmVBAMzMzMzMzT0CamZmZmVlRQJqZmZmZGVJAmpmZmZmZUEAzMzMzMzNPQJqZmZmZ2VBAMzMzMzOzS0AzMzMzM7NNQDMzMzMzM09AmpmZmZnZUECamZmZmdlQQJqZmZmZmVBAmpmZmZkZUECamZmZmZlQQJqZmZmZ2VBAMzMzMzOzS0AzMzMzM7NNQDMzMzMzM09AmpmZmZnZUECamZmZmdlRQJqZmZmZWVFAmpmZmZnZUECamZmZmVlRQJqZmZmZ2VFAMzMzMzOzS0AzMzMzM7NNQDMzMzMzM09AmpmZmZnZUUCamZmZmZlSQJqZmZmZGVJAmpmZmZnZUUCamZmZmRlSQDMzMzMzs0tAMzMzMzOzTUAzMzMzMzNPQJqZmZmZmVJAmpmZmZnZUUCamZmZmZlSQJqZmZmZGVJAmpmZmZkZU0CamZmZmZlSQJqZmZmZGVJAmpmZmZkZUkCamZmZmRlSQDMzMzMzM09AmpmZmZkZUkCamZmZmdlRQJqZmZmZ2VFAmpmZmZnZUUCamZmZmRlQQJqZmZmZ2VFAmpmZmZlZUUAzMzMzMzNOQJqZmZmZWVFAmpmZmZlZUUAzMzMzMzNOQJqZmZmZ2VBAmpmZmZmZUEAzMzMzMzNPQJqZmZmZGVBAmpmZmZmZUEAzMzMzMzNPQJqZmZmZ2VBAMzMzMzOzTUCamZmZmVlRQDMzMzMzM09AmpmZmZnZUUCamZmZmdlRQJqZmZmZmVJAmpmZmZkZUkCamZmZmRlTQJqZmZmZmVJAmpmZmZkZUkCamZmZmRlSQJqZmZmZGVJAMzMzMzMzT0CamZmZmRlSQJqZmZmZ2VFAmpmZmZnZUUCamZmZmdlRQJqZmZmZGVBAmpmZmZnZUUCamZmZmVlRQDMzMzMzM05AmpmZmZlZUUCamZmZmVlRQDMzMzMzM05AmpmZmZnZUECamZmZmZlQQDMzMzMzM09AmpmZmZkZUECamZmZmZlQQDMzMzMzM09AmpmZmZnZUEAzMzMzM7NNQJqZmZmZWVFAMzMzMzMzT0CamZmZmdlRQJqZmZmZ2VBAMzMzMzOzS0CamZmZmdlRQDMzMzMzs0tAmpmZmZnZUEAzMzMzM7NLQA==\",\"dtype\":\"float64\",\"shape\":[167]},\"velocity\":[86,86,82,87,89,91,84,94,93,85,93,107,101,119,90,109,93,87,92,106,90,90,98,104,93,83,105,90,87,107,86,98,95,94,106,96,89,92,97,93,104,101,98,100,106,119,81,98,100,92,91,94,94,96,106,99,90,97,94,88,113,104,93,98,101,112,85,101,112,108,108,108,107,107,98,99,107,112,99,99,99,110,115,109,98,103,111,92,92,92,108,115,113,96,100,96,96,96,116,65,65,71,71,61,55,67,64,56,70,65,67,69,73,73,69,64,67,72,72,65,60,78,61,74,69,105,90,104,110,97,66,66,69,69,58,55,64,65,54,69,65,73,70,77,71,68,65,73,73,66,67,64,74,69,71,68,106,93,100,106,105,103,108,127,115,105,120]},\"selected\":{\"id\":\"1047\",\"type\":\"Selection\"},\"selection_policy\":{\"id\":\"1048\",\"type\":\"UnionRenderers\"}},\"id\":\"1036\",\"type\":\"ColumnDataSource\"},{\"attributes\":{\"callback\":null},\"id\":\"1004\",\"type\":\"DataRange1d\"},{\"attributes\":{\"bottom\":{\"field\":\"bottom\"},\"fill_alpha\":{\"value\":0.1},\"fill_color\":{\"value\":\"#1f77b4\"},\"left\":{\"field\":\"start_time\"},\"line_alpha\":{\"value\":0.1},\"line_color\":{\"value\":\"#1f77b4\"},\"right\":{\"field\":\"end_time\"},\"top\":{\"field\":\"top\"}},\"id\":\"1039\",\"type\":\"Quad\"},{\"attributes\":{\"plot\":{\"id\":\"1001\",\"subtype\":\"Figure\",\"type\":\"Plot\"},\"ticker\":{\"id\":\"1011\",\"type\":\"BasicTicker\"}},\"id\":\"1014\",\"type\":\"Grid\"},{\"attributes\":{},\"id\":\"1044\",\"type\":\"BasicTickFormatter\"},{\"attributes\":{\"data_source\":{\"id\":\"1036\",\"type\":\"ColumnDataSource\"},\"glyph\":{\"id\":\"1038\",\"type\":\"Quad\"},\"hover_glyph\":null,\"muted_glyph\":null,\"nonselection_glyph\":{\"id\":\"1039\",\"type\":\"Quad\"},\"selection_glyph\":null,\"view\":{\"id\":\"1041\",\"type\":\"CDSView\"}},\"id\":\"1040\",\"type\":\"GlyphRenderer\"},{\"attributes\":{\"axis_label\":\"pitch (MIDI)\",\"formatter\":{\"id\":\"1044\",\"type\":\"BasicTickFormatter\"},\"plot\":{\"id\":\"1001\",\"subtype\":\"Figure\",\"type\":\"Plot\"},\"ticker\":{\"id\":\"1033\",\"type\":\"SingleIntervalTicker\"}},\"id\":\"1015\",\"type\":\"LinearAxis\"},{\"attributes\":{\"interval\":12},\"id\":\"1033\",\"type\":\"SingleIntervalTicker\"},{\"attributes\":{\"dimension\":1,\"plot\":{\"id\":\"1001\",\"subtype\":\"Figure\",\"type\":\"Plot\"},\"ticker\":{\"id\":\"1035\",\"type\":\"SingleIntervalTicker\"}},\"id\":\"1019\",\"type\":\"Grid\"},{\"attributes\":{\"callback\":null,\"tooltips\":[[\"pitch\",\"@pitch\"],[\"program\",\"@program\"],[\"velo\",\"@velocity\"],[\"duration\",\"@duration\"],[\"start_time\",\"@start_time\"],[\"end_time\",\"@end_time\"],[\"velocity\",\"@velocity\"],[\"fill_alpha\",\"@fill_alpha\"]]},\"id\":\"1020\",\"type\":\"HoverTool\"},{\"attributes\":{\"interval\":12},\"id\":\"1035\",\"type\":\"SingleIntervalTicker\"},{\"attributes\":{\"active_drag\":\"auto\",\"active_inspect\":\"auto\",\"active_multi\":null,\"active_scroll\":\"auto\",\"active_tap\":\"auto\",\"tools\":[{\"id\":\"1020\",\"type\":\"HoverTool\"},{\"id\":\"1021\",\"type\":\"PanTool\"},{\"id\":\"1022\",\"type\":\"BoxZoomTool\"},{\"id\":\"1023\",\"type\":\"ResetTool\"},{\"id\":\"1024\",\"type\":\"SaveTool\"}]},\"id\":\"1025\",\"type\":\"Toolbar\"},{\"attributes\":{\"source\":{\"id\":\"1036\",\"type\":\"ColumnDataSource\"}},\"id\":\"1041\",\"type\":\"CDSView\"},{\"attributes\":{},\"id\":\"1021\",\"type\":\"PanTool\"},{\"attributes\":{\"overlay\":{\"id\":\"1027\",\"type\":\"BoxAnnotation\"}},\"id\":\"1022\",\"type\":\"BoxZoomTool\"},{\"attributes\":{},\"id\":\"1045\",\"type\":\"BasicTickFormatter\"},{\"attributes\":{},\"id\":\"1023\",\"type\":\"ResetTool\"},{\"attributes\":{\"callback\":null},\"id\":\"1002\",\"type\":\"DataRange1d\"},{\"attributes\":{},\"id\":\"1047\",\"type\":\"Selection\"},{\"attributes\":{},\"id\":\"1024\",\"type\":\"SaveTool\"},{\"attributes\":{},\"id\":\"1048\",\"type\":\"UnionRenderers\"},{\"attributes\":{},\"id\":\"1008\",\"type\":\"LinearScale\"},{\"attributes\":{\"bottom_units\":\"screen\",\"fill_alpha\":{\"value\":0.5},\"fill_color\":{\"value\":\"lightgrey\"},\"left_units\":\"screen\",\"level\":\"overlay\",\"line_alpha\":{\"value\":1.0},\"line_color\":{\"value\":\"black\"},\"line_dash\":[4,4],\"line_width\":{\"value\":2},\"plot\":null,\"render_mode\":\"css\",\"right_units\":\"screen\",\"top_units\":\"screen\"},\"id\":\"1027\",\"type\":\"BoxAnnotation\"},{\"attributes\":{\"plot\":null,\"text\":\"\"},\"id\":\"1042\",\"type\":\"Title\"},{\"attributes\":{},\"id\":\"1006\",\"type\":\"LinearScale\"}],\"root_ids\":[\"1001\"]},\"title\":\"Bokeh Application\",\"version\":\"1.0.4\"}};\n",
              "  var render_items = [{\"docid\":\"61058161-b6ae-4d8c-901e-20ed4961a86d\",\"roots\":{\"1001\":\"7f50fd32-4b9d-458e-a841-d04450ad3fc1\"}}];\n",
              "  root.Bokeh.embed.embed_items_notebook(docs_json, render_items);\n",
              "\n",
              "  }\n",
              "  if (root.Bokeh !== undefined) {\n",
              "    embed_document(root);\n",
              "  } else {\n",
              "    var attempts = 0;\n",
              "    var timer = setInterval(function(root) {\n",
              "      if (root.Bokeh !== undefined) {\n",
              "        embed_document(root);\n",
              "        clearInterval(timer);\n",
              "      }\n",
              "      attempts++;\n",
              "      if (attempts > 100) {\n",
              "        console.log(\"Bokeh: ERROR: Unable to run BokehJS code because BokehJS library is missing\");\n",
              "        clearInterval(timer);\n",
              "      }\n",
              "    }, 10, root)\n",
              "  }\n",
              "})(window);"
            ],
            "application/vnd.bokehjs_exec.v0+json": ""
          },
          "metadata": {
            "tags": [],
            "application/vnd.bokehjs_exec.v0+json": {
              "id": "1001"
            }
          }
        }
      ]
    },
    {
      "cell_type": "code",
      "metadata": {
        "id": "TdbpKPZl-_61",
        "colab_type": "code",
        "outputId": "b2845ee0-602e-4c5a-9819-1cfd72418e00",
        "colab": {
          "base_uri": "https://localhost:8080/",
          "height": 34
        }
      },
      "source": [
        "print('Downloading model bundle. This will take less than a minute...')\n",
        "mm.notebook_utils.download_bundle('basic_rnn.mag', '/content/')\n",
        "bundle = mm.sequence_generator_bundle.read_bundle_file('/content/basic_rnn.mag')\n",
        "\n",
        "# Import dependencies.\n",
        "from magenta.models.melody_rnn import melody_rnn_sequence_generator\n",
        "from magenta.protobuf import generator_pb2\n",
        "from magenta.protobuf import music_pb2\n"
      ],
      "execution_count": 0,
      "outputs": [
        {
          "output_type": "stream",
          "text": [
            "Downloading model bundle. This will take less than a minute...\n"
          ],
          "name": "stdout"
        }
      ]
    },
    {
      "cell_type": "code",
      "metadata": {
        "id": "JKK_vcsrCPKk",
        "colab_type": "code",
        "outputId": "e2e821d0-3926-476c-81e7-4e4272d3e0ff",
        "colab": {
          "base_uri": "https://localhost:8080/",
          "height": 122
        }
      },
      "source": [
        "# Initialize the model.\n",
        "print(\"Initializing Melody RNN...\")\n",
        "generator_map = melody_rnn_sequence_generator.get_generator_map()\n",
        "melody_rnn = generator_map['basic_rnn'](checkpoint=None, bundle=bundle)\n",
        "melody_rnn.initialize()\n",
        "\n",
        "print ('🎉 Done!')\n"
      ],
      "execution_count": 0,
      "outputs": [
        {
          "output_type": "stream",
          "text": [
            "Initializing Melody RNN...\n",
            "WARNING:tensorflow:The saved meta_graph is possibly from an older release:\n",
            "'model_variables' collection should be of type 'byte_list', but instead is of type 'node_list'.\n",
            "INFO:tensorflow:Restoring parameters from /tmp/tmp68bwdmpl/model.ckpt\n",
            "🎉 Done!\n"
          ],
          "name": "stdout"
        }
      ]
    },
    {
      "cell_type": "code",
      "metadata": {
        "id": "O8_08RBuCa3W",
        "colab_type": "code",
        "outputId": "c07b6fa3-8e6e-4efe-acff-17d08a298f13",
        "colab": {
          "base_uri": "https://localhost:8080/",
          "height": 289
        }
      },
      "source": [
        "num_steps = 500\n",
        "temperature = 1.0\n",
        "\n",
        "last_end_time = (max(n.end_time for n in noteSeq.notes) \n",
        "                  if noteSeq.notes else 0)\n",
        "qpm = noteSeq.tempos[0].qpm\n",
        "seconds_per_step = 60.0 / qpm / melody_rnn.steps_per_quarter\n",
        "total_seconds = num_steps * seconds_per_step\n",
        "\n",
        "generator_options = generator_pb2.GeneratorOptions()\n",
        "generator_options.args['temperature'].float_value = temperature\n",
        "generate_section = generator_options.generate_sections.add(\n",
        "    start_time=last_end_time + seconds_per_step,\n",
        "    end_time=total_seconds)\n",
        "\n",
        "\n",
        "sequence = melody_rnn.generate(noteSeq, generator_options)\n",
        "mm.plot_sequence(sequence)\n",
        "mm.play_sequence(sequence, synth=mm.fluidsynth)"
      ],
      "execution_count": 0,
      "outputs": [
        {
          "output_type": "stream",
          "text": [
            "INFO:tensorflow:Beam search yields sequence with log-likelihood: -489.116669 \n"
          ],
          "name": "stdout"
        },
        {
          "output_type": "display_data",
          "data": {
            "application/javascript": [
              "\n",
              "(function(root) {\n",
              "  function now() {\n",
              "    return new Date();\n",
              "  }\n",
              "\n",
              "  var force = true;\n",
              "\n",
              "  if (typeof (root._bokeh_onload_callbacks) === \"undefined\" || force === true) {\n",
              "    root._bokeh_onload_callbacks = [];\n",
              "    root._bokeh_is_loading = undefined;\n",
              "  }\n",
              "\n",
              "  var JS_MIME_TYPE = 'application/javascript';\n",
              "  var HTML_MIME_TYPE = 'text/html';\n",
              "  var EXEC_MIME_TYPE = 'application/vnd.bokehjs_exec.v0+json';\n",
              "  var CLASS_NAME = 'output_bokeh rendered_html';\n",
              "\n",
              "  /**\n",
              "   * Render data to the DOM node\n",
              "   */\n",
              "  function render(props, node) {\n",
              "    var script = document.createElement(\"script\");\n",
              "    node.appendChild(script);\n",
              "  }\n",
              "\n",
              "  /**\n",
              "   * Handle when an output is cleared or removed\n",
              "   */\n",
              "  function handleClearOutput(event, handle) {\n",
              "    var cell = handle.cell;\n",
              "\n",
              "    var id = cell.output_area._bokeh_element_id;\n",
              "    var server_id = cell.output_area._bokeh_server_id;\n",
              "    // Clean up Bokeh references\n",
              "    if (id != null && id in Bokeh.index) {\n",
              "      Bokeh.index[id].model.document.clear();\n",
              "      delete Bokeh.index[id];\n",
              "    }\n",
              "\n",
              "    if (server_id !== undefined) {\n",
              "      // Clean up Bokeh references\n",
              "      var cmd = \"from bokeh.io.state import curstate; print(curstate().uuid_to_server['\" + server_id + \"'].get_sessions()[0].document.roots[0]._id)\";\n",
              "      cell.notebook.kernel.execute(cmd, {\n",
              "        iopub: {\n",
              "          output: function(msg) {\n",
              "            var id = msg.content.text.trim();\n",
              "            if (id in Bokeh.index) {\n",
              "              Bokeh.index[id].model.document.clear();\n",
              "              delete Bokeh.index[id];\n",
              "            }\n",
              "          }\n",
              "        }\n",
              "      });\n",
              "      // Destroy server and session\n",
              "      var cmd = \"import bokeh.io.notebook as ion; ion.destroy_server('\" + server_id + \"')\";\n",
              "      cell.notebook.kernel.execute(cmd);\n",
              "    }\n",
              "  }\n",
              "\n",
              "  /**\n",
              "   * Handle when a new output is added\n",
              "   */\n",
              "  function handleAddOutput(event, handle) {\n",
              "    var output_area = handle.output_area;\n",
              "    var output = handle.output;\n",
              "\n",
              "    // limit handleAddOutput to display_data with EXEC_MIME_TYPE content only\n",
              "    if ((output.output_type != \"display_data\") || (!output.data.hasOwnProperty(EXEC_MIME_TYPE))) {\n",
              "      return\n",
              "    }\n",
              "\n",
              "    var toinsert = output_area.element.find(\".\" + CLASS_NAME.split(' ')[0]);\n",
              "\n",
              "    if (output.metadata[EXEC_MIME_TYPE][\"id\"] !== undefined) {\n",
              "      toinsert[toinsert.length - 1].firstChild.textContent = output.data[JS_MIME_TYPE];\n",
              "      // store reference to embed id on output_area\n",
              "      output_area._bokeh_element_id = output.metadata[EXEC_MIME_TYPE][\"id\"];\n",
              "    }\n",
              "    if (output.metadata[EXEC_MIME_TYPE][\"server_id\"] !== undefined) {\n",
              "      var bk_div = document.createElement(\"div\");\n",
              "      bk_div.innerHTML = output.data[HTML_MIME_TYPE];\n",
              "      var script_attrs = bk_div.children[0].attributes;\n",
              "      for (var i = 0; i < script_attrs.length; i++) {\n",
              "        toinsert[toinsert.length - 1].firstChild.setAttribute(script_attrs[i].name, script_attrs[i].value);\n",
              "      }\n",
              "      // store reference to server id on output_area\n",
              "      output_area._bokeh_server_id = output.metadata[EXEC_MIME_TYPE][\"server_id\"];\n",
              "    }\n",
              "  }\n",
              "\n",
              "  function register_renderer(events, OutputArea) {\n",
              "\n",
              "    function append_mime(data, metadata, element) {\n",
              "      // create a DOM node to render to\n",
              "      var toinsert = this.create_output_subarea(\n",
              "        metadata,\n",
              "        CLASS_NAME,\n",
              "        EXEC_MIME_TYPE\n",
              "      );\n",
              "      this.keyboard_manager.register_events(toinsert);\n",
              "      // Render to node\n",
              "      var props = {data: data, metadata: metadata[EXEC_MIME_TYPE]};\n",
              "      render(props, toinsert[toinsert.length - 1]);\n",
              "      element.append(toinsert);\n",
              "      return toinsert\n",
              "    }\n",
              "\n",
              "    /* Handle when an output is cleared or removed */\n",
              "    events.on('clear_output.CodeCell', handleClearOutput);\n",
              "    events.on('delete.Cell', handleClearOutput);\n",
              "\n",
              "    /* Handle when a new output is added */\n",
              "    events.on('output_added.OutputArea', handleAddOutput);\n",
              "\n",
              "    /**\n",
              "     * Register the mime type and append_mime function with output_area\n",
              "     */\n",
              "    OutputArea.prototype.register_mime_type(EXEC_MIME_TYPE, append_mime, {\n",
              "      /* Is output safe? */\n",
              "      safe: true,\n",
              "      /* Index of renderer in `output_area.display_order` */\n",
              "      index: 0\n",
              "    });\n",
              "  }\n",
              "\n",
              "  // register the mime type if in Jupyter Notebook environment and previously unregistered\n",
              "  if (root.Jupyter !== undefined) {\n",
              "    var events = require('base/js/events');\n",
              "    var OutputArea = require('notebook/js/outputarea').OutputArea;\n",
              "\n",
              "    if (OutputArea.prototype.mime_types().indexOf(EXEC_MIME_TYPE) == -1) {\n",
              "      register_renderer(events, OutputArea);\n",
              "    }\n",
              "  }\n",
              "\n",
              "  \n",
              "  if (typeof (root._bokeh_timeout) === \"undefined\" || force === true) {\n",
              "    root._bokeh_timeout = Date.now() + 5000;\n",
              "    root._bokeh_failed_load = false;\n",
              "  }\n",
              "\n",
              "  var NB_LOAD_WARNING = {'data': {'text/html':\n",
              "     \"<div style='background-color: #fdd'>\\n\"+\n",
              "     \"<p>\\n\"+\n",
              "     \"BokehJS does not appear to have successfully loaded. If loading BokehJS from CDN, this \\n\"+\n",
              "     \"may be due to a slow or bad network connection. Possible fixes:\\n\"+\n",
              "     \"</p>\\n\"+\n",
              "     \"<ul>\\n\"+\n",
              "     \"<li>re-rerun `output_notebook()` to attempt to load from CDN again, or</li>\\n\"+\n",
              "     \"<li>use INLINE resources instead, as so:</li>\\n\"+\n",
              "     \"</ul>\\n\"+\n",
              "     \"<code>\\n\"+\n",
              "     \"from bokeh.resources import INLINE\\n\"+\n",
              "     \"output_notebook(resources=INLINE)\\n\"+\n",
              "     \"</code>\\n\"+\n",
              "     \"</div>\"}};\n",
              "\n",
              "  function display_loaded() {\n",
              "    var el = document.getElementById(null);\n",
              "    if (el != null) {\n",
              "      el.textContent = \"BokehJS is loading...\";\n",
              "    }\n",
              "    if (root.Bokeh !== undefined) {\n",
              "      if (el != null) {\n",
              "        el.textContent = \"BokehJS \" + root.Bokeh.version + \" successfully loaded.\";\n",
              "      }\n",
              "    } else if (Date.now() < root._bokeh_timeout) {\n",
              "      setTimeout(display_loaded, 100)\n",
              "    }\n",
              "  }\n",
              "\n",
              "\n",
              "  function run_callbacks() {\n",
              "    try {\n",
              "      root._bokeh_onload_callbacks.forEach(function(callback) { callback() });\n",
              "    }\n",
              "    finally {\n",
              "      delete root._bokeh_onload_callbacks\n",
              "    }\n",
              "    console.info(\"Bokeh: all callbacks have finished\");\n",
              "  }\n",
              "\n",
              "  function load_libs(js_urls, callback) {\n",
              "    root._bokeh_onload_callbacks.push(callback);\n",
              "    if (root._bokeh_is_loading > 0) {\n",
              "      console.log(\"Bokeh: BokehJS is being loaded, scheduling callback at\", now());\n",
              "      return null;\n",
              "    }\n",
              "    if (js_urls == null || js_urls.length === 0) {\n",
              "      run_callbacks();\n",
              "      return null;\n",
              "    }\n",
              "    console.log(\"Bokeh: BokehJS not loaded, scheduling load and callback at\", now());\n",
              "    root._bokeh_is_loading = js_urls.length;\n",
              "    for (var i = 0; i < js_urls.length; i++) {\n",
              "      var url = js_urls[i];\n",
              "      var s = document.createElement('script');\n",
              "      s.src = url;\n",
              "      s.async = false;\n",
              "      s.onreadystatechange = s.onload = function() {\n",
              "        root._bokeh_is_loading--;\n",
              "        if (root._bokeh_is_loading === 0) {\n",
              "          console.log(\"Bokeh: all BokehJS libraries loaded\");\n",
              "          run_callbacks()\n",
              "        }\n",
              "      };\n",
              "      s.onerror = function() {\n",
              "        console.warn(\"failed to load library \" + url);\n",
              "      };\n",
              "      console.log(\"Bokeh: injecting script tag for BokehJS library: \", url);\n",
              "      document.getElementsByTagName(\"head\")[0].appendChild(s);\n",
              "    }\n",
              "  };\n",
              "\n",
              "  var js_urls = [\"https://cdn.pydata.org/bokeh/release/bokeh-1.0.4.min.js\", \"https://cdn.pydata.org/bokeh/release/bokeh-widgets-1.0.4.min.js\", \"https://cdn.pydata.org/bokeh/release/bokeh-tables-1.0.4.min.js\", \"https://cdn.pydata.org/bokeh/release/bokeh-gl-1.0.4.min.js\"];\n",
              "\n",
              "  var inline_js = [\n",
              "    function(Bokeh) {\n",
              "      Bokeh.set_log_level(\"info\");\n",
              "    },\n",
              "    \n",
              "    function(Bokeh) {\n",
              "      \n",
              "    },\n",
              "    function(Bokeh) {\n",
              "      console.log(\"Bokeh: injecting CSS: https://cdn.pydata.org/bokeh/release/bokeh-1.0.4.min.css\");\n",
              "      Bokeh.embed.inject_css(\"https://cdn.pydata.org/bokeh/release/bokeh-1.0.4.min.css\");\n",
              "      console.log(\"Bokeh: injecting CSS: https://cdn.pydata.org/bokeh/release/bokeh-widgets-1.0.4.min.css\");\n",
              "      Bokeh.embed.inject_css(\"https://cdn.pydata.org/bokeh/release/bokeh-widgets-1.0.4.min.css\");\n",
              "      console.log(\"Bokeh: injecting CSS: https://cdn.pydata.org/bokeh/release/bokeh-tables-1.0.4.min.css\");\n",
              "      Bokeh.embed.inject_css(\"https://cdn.pydata.org/bokeh/release/bokeh-tables-1.0.4.min.css\");\n",
              "    }\n",
              "  ];\n",
              "\n",
              "  function run_inline_js() {\n",
              "    \n",
              "    if ((root.Bokeh !== undefined) || (force === true)) {\n",
              "      for (var i = 0; i < inline_js.length; i++) {\n",
              "        inline_js[i].call(root, root.Bokeh);\n",
              "      }} else if (Date.now() < root._bokeh_timeout) {\n",
              "      setTimeout(run_inline_js, 100);\n",
              "    } else if (!root._bokeh_failed_load) {\n",
              "      console.log(\"Bokeh: BokehJS failed to load within specified timeout.\");\n",
              "      root._bokeh_failed_load = true;\n",
              "    } else if (force !== true) {\n",
              "      var cell = $(document.getElementById(null)).parents('.cell').data().cell;\n",
              "      cell.output_area.append_execute_result(NB_LOAD_WARNING)\n",
              "    }\n",
              "\n",
              "  }\n",
              "\n",
              "  if (root._bokeh_is_loading === 0) {\n",
              "    console.log(\"Bokeh: BokehJS loaded, going straight to plotting\");\n",
              "    run_inline_js();\n",
              "  } else {\n",
              "    load_libs(js_urls, function() {\n",
              "      console.log(\"Bokeh: BokehJS plotting callback run at\", now());\n",
              "      run_inline_js();\n",
              "    });\n",
              "  }\n",
              "}(window));"
            ],
            "application/vnd.bokehjs_load.v0+json": "\n(function(root) {\n  function now() {\n    return new Date();\n  }\n\n  var force = true;\n\n  if (typeof (root._bokeh_onload_callbacks) === \"undefined\" || force === true) {\n    root._bokeh_onload_callbacks = [];\n    root._bokeh_is_loading = undefined;\n  }\n\n  \n\n  \n  if (typeof (root._bokeh_timeout) === \"undefined\" || force === true) {\n    root._bokeh_timeout = Date.now() + 5000;\n    root._bokeh_failed_load = false;\n  }\n\n  var NB_LOAD_WARNING = {'data': {'text/html':\n     \"<div style='background-color: #fdd'>\\n\"+\n     \"<p>\\n\"+\n     \"BokehJS does not appear to have successfully loaded. If loading BokehJS from CDN, this \\n\"+\n     \"may be due to a slow or bad network connection. Possible fixes:\\n\"+\n     \"</p>\\n\"+\n     \"<ul>\\n\"+\n     \"<li>re-rerun `output_notebook()` to attempt to load from CDN again, or</li>\\n\"+\n     \"<li>use INLINE resources instead, as so:</li>\\n\"+\n     \"</ul>\\n\"+\n     \"<code>\\n\"+\n     \"from bokeh.resources import INLINE\\n\"+\n     \"output_notebook(resources=INLINE)\\n\"+\n     \"</code>\\n\"+\n     \"</div>\"}};\n\n  function display_loaded() {\n    var el = document.getElementById(null);\n    if (el != null) {\n      el.textContent = \"BokehJS is loading...\";\n    }\n    if (root.Bokeh !== undefined) {\n      if (el != null) {\n        el.textContent = \"BokehJS \" + root.Bokeh.version + \" successfully loaded.\";\n      }\n    } else if (Date.now() < root._bokeh_timeout) {\n      setTimeout(display_loaded, 100)\n    }\n  }\n\n\n  function run_callbacks() {\n    try {\n      root._bokeh_onload_callbacks.forEach(function(callback) { callback() });\n    }\n    finally {\n      delete root._bokeh_onload_callbacks\n    }\n    console.info(\"Bokeh: all callbacks have finished\");\n  }\n\n  function load_libs(js_urls, callback) {\n    root._bokeh_onload_callbacks.push(callback);\n    if (root._bokeh_is_loading > 0) {\n      console.log(\"Bokeh: BokehJS is being loaded, scheduling callback at\", now());\n      return null;\n    }\n    if (js_urls == null || js_urls.length === 0) {\n      run_callbacks();\n      return null;\n    }\n    console.log(\"Bokeh: BokehJS not loaded, scheduling load and callback at\", now());\n    root._bokeh_is_loading = js_urls.length;\n    for (var i = 0; i < js_urls.length; i++) {\n      var url = js_urls[i];\n      var s = document.createElement('script');\n      s.src = url;\n      s.async = false;\n      s.onreadystatechange = s.onload = function() {\n        root._bokeh_is_loading--;\n        if (root._bokeh_is_loading === 0) {\n          console.log(\"Bokeh: all BokehJS libraries loaded\");\n          run_callbacks()\n        }\n      };\n      s.onerror = function() {\n        console.warn(\"failed to load library \" + url);\n      };\n      console.log(\"Bokeh: injecting script tag for BokehJS library: \", url);\n      document.getElementsByTagName(\"head\")[0].appendChild(s);\n    }\n  };\n\n  var js_urls = [\"https://cdn.pydata.org/bokeh/release/bokeh-1.0.4.min.js\", \"https://cdn.pydata.org/bokeh/release/bokeh-widgets-1.0.4.min.js\", \"https://cdn.pydata.org/bokeh/release/bokeh-tables-1.0.4.min.js\", \"https://cdn.pydata.org/bokeh/release/bokeh-gl-1.0.4.min.js\"];\n\n  var inline_js = [\n    function(Bokeh) {\n      Bokeh.set_log_level(\"info\");\n    },\n    \n    function(Bokeh) {\n      \n    },\n    function(Bokeh) {\n      console.log(\"Bokeh: injecting CSS: https://cdn.pydata.org/bokeh/release/bokeh-1.0.4.min.css\");\n      Bokeh.embed.inject_css(\"https://cdn.pydata.org/bokeh/release/bokeh-1.0.4.min.css\");\n      console.log(\"Bokeh: injecting CSS: https://cdn.pydata.org/bokeh/release/bokeh-widgets-1.0.4.min.css\");\n      Bokeh.embed.inject_css(\"https://cdn.pydata.org/bokeh/release/bokeh-widgets-1.0.4.min.css\");\n      console.log(\"Bokeh: injecting CSS: https://cdn.pydata.org/bokeh/release/bokeh-tables-1.0.4.min.css\");\n      Bokeh.embed.inject_css(\"https://cdn.pydata.org/bokeh/release/bokeh-tables-1.0.4.min.css\");\n    }\n  ];\n\n  function run_inline_js() {\n    \n    if ((root.Bokeh !== undefined) || (force === true)) {\n      for (var i = 0; i < inline_js.length; i++) {\n        inline_js[i].call(root, root.Bokeh);\n      }} else if (Date.now() < root._bokeh_timeout) {\n      setTimeout(run_inline_js, 100);\n    } else if (!root._bokeh_failed_load) {\n      console.log(\"Bokeh: BokehJS failed to load within specified timeout.\");\n      root._bokeh_failed_load = true;\n    } else if (force !== true) {\n      var cell = $(document.getElementById(null)).parents('.cell').data().cell;\n      cell.output_area.append_execute_result(NB_LOAD_WARNING)\n    }\n\n  }\n\n  if (root._bokeh_is_loading === 0) {\n    console.log(\"Bokeh: BokehJS loaded, going straight to plotting\");\n    run_inline_js();\n  } else {\n    load_libs(js_urls, function() {\n      console.log(\"Bokeh: BokehJS plotting callback run at\", now());\n      run_inline_js();\n    });\n  }\n}(window));"
          },
          "metadata": {
            "tags": []
          }
        },
        {
          "output_type": "display_data",
          "data": {
            "text/html": [
              "\n",
              "\n",
              "\n",
              "\n",
              "\n",
              "\n",
              "  <div class=\"bk-root\" id=\"5568e07b-af85-4e07-8839-f2838efdcd81\" data-root-id=\"1106\"></div>\n"
            ]
          },
          "metadata": {
            "tags": []
          }
        },
        {
          "output_type": "display_data",
          "data": {
            "application/javascript": [
              "(function(root) {\n",
              "  function embed_document(root) {\n",
              "    \n",
              "  var docs_json = {\"cf29d3ac-800d-4d0c-ad3e-a8d6bf03dd57\":{\"roots\":{\"references\":[{\"attributes\":{\"below\":[{\"id\":\"1115\",\"type\":\"LinearAxis\"}],\"left\":[{\"id\":\"1120\",\"type\":\"LinearAxis\"}],\"plot_height\":200,\"plot_width\":500,\"renderers\":[{\"id\":\"1115\",\"type\":\"LinearAxis\"},{\"id\":\"1119\",\"type\":\"Grid\"},{\"id\":\"1120\",\"type\":\"LinearAxis\"},{\"id\":\"1124\",\"type\":\"Grid\"},{\"id\":\"1132\",\"type\":\"BoxAnnotation\"},{\"id\":\"1145\",\"type\":\"GlyphRenderer\"}],\"title\":{\"id\":\"1147\",\"type\":\"Title\"},\"toolbar\":{\"id\":\"1130\",\"type\":\"Toolbar\"},\"x_range\":{\"id\":\"1107\",\"type\":\"DataRange1d\"},\"x_scale\":{\"id\":\"1111\",\"type\":\"LinearScale\"},\"y_range\":{\"id\":\"1109\",\"type\":\"DataRange1d\"},\"y_scale\":{\"id\":\"1113\",\"type\":\"LinearScale\"}},\"id\":\"1106\",\"subtype\":\"Figure\",\"type\":\"Plot\"},{\"attributes\":{},\"id\":\"1149\",\"type\":\"BasicTickFormatter\"},{\"attributes\":{\"dimension\":1,\"plot\":{\"id\":\"1106\",\"subtype\":\"Figure\",\"type\":\"Plot\"},\"ticker\":{\"id\":\"1140\",\"type\":\"SingleIntervalTicker\"}},\"id\":\"1124\",\"type\":\"Grid\"},{\"attributes\":{\"source\":{\"id\":\"1141\",\"type\":\"ColumnDataSource\"}},\"id\":\"1146\",\"type\":\"CDSView\"},{\"attributes\":{\"interval\":12},\"id\":\"1140\",\"type\":\"SingleIntervalTicker\"},{\"attributes\":{\"data_source\":{\"id\":\"1141\",\"type\":\"ColumnDataSource\"},\"glyph\":{\"id\":\"1143\",\"type\":\"Quad\"},\"hover_glyph\":null,\"muted_glyph\":null,\"nonselection_glyph\":{\"id\":\"1144\",\"type\":\"Quad\"},\"selection_glyph\":null,\"view\":{\"id\":\"1146\",\"type\":\"CDSView\"}},\"id\":\"1145\",\"type\":\"GlyphRenderer\"},{\"attributes\":{\"active_drag\":\"auto\",\"active_inspect\":\"auto\",\"active_multi\":null,\"active_scroll\":\"auto\",\"active_tap\":\"auto\",\"tools\":[{\"id\":\"1125\",\"type\":\"HoverTool\"},{\"id\":\"1126\",\"type\":\"PanTool\"},{\"id\":\"1127\",\"type\":\"BoxZoomTool\"},{\"id\":\"1128\",\"type\":\"ResetTool\"},{\"id\":\"1129\",\"type\":\"SaveTool\"}]},\"id\":\"1130\",\"type\":\"Toolbar\"},{\"attributes\":{\"callback\":null,\"tooltips\":[[\"pitch\",\"@pitch\"],[\"program\",\"@program\"],[\"velo\",\"@velocity\"],[\"duration\",\"@duration\"],[\"start_time\",\"@start_time\"],[\"end_time\",\"@end_time\"],[\"velocity\",\"@velocity\"],[\"fill_alpha\",\"@fill_alpha\"]]},\"id\":\"1125\",\"type\":\"HoverTool\"},{\"attributes\":{\"bottom\":{\"field\":\"bottom\"},\"fill_alpha\":{\"value\":0.1},\"fill_color\":{\"value\":\"#1f77b4\"},\"left\":{\"field\":\"start_time\"},\"line_alpha\":{\"value\":0.1},\"line_color\":{\"value\":\"#1f77b4\"},\"right\":{\"field\":\"end_time\"},\"top\":{\"field\":\"top\"}},\"id\":\"1144\",\"type\":\"Quad\"},{\"attributes\":{},\"id\":\"1126\",\"type\":\"PanTool\"},{\"attributes\":{\"bottom\":{\"field\":\"bottom\"},\"fill_alpha\":{\"field\":\"fill_alpha\"},\"fill_color\":{\"value\":\"#d53e4f\"},\"left\":{\"field\":\"start_time\"},\"right\":{\"field\":\"end_time\"},\"top\":{\"field\":\"top\"}},\"id\":\"1143\",\"type\":\"Quad\"},{\"attributes\":{\"callback\":null},\"id\":\"1109\",\"type\":\"DataRange1d\"},{\"attributes\":{\"overlay\":{\"id\":\"1132\",\"type\":\"BoxAnnotation\"}},\"id\":\"1127\",\"type\":\"BoxZoomTool\"},{\"attributes\":{},\"id\":\"1150\",\"type\":\"BasicTickFormatter\"},{\"attributes\":{},\"id\":\"1128\",\"type\":\"ResetTool\"},{\"attributes\":{},\"id\":\"1152\",\"type\":\"Selection\"},{\"attributes\":{},\"id\":\"1129\",\"type\":\"SaveTool\"},{\"attributes\":{\"callback\":null},\"id\":\"1107\",\"type\":\"DataRange1d\"},{\"attributes\":{},\"id\":\"1153\",\"type\":\"UnionRenderers\"},{\"attributes\":{\"interval\":12},\"id\":\"1138\",\"type\":\"SingleIntervalTicker\"},{\"attributes\":{},\"id\":\"1111\",\"type\":\"LinearScale\"},{\"attributes\":{\"bottom_units\":\"screen\",\"fill_alpha\":{\"value\":0.5},\"fill_color\":{\"value\":\"lightgrey\"},\"left_units\":\"screen\",\"level\":\"overlay\",\"line_alpha\":{\"value\":1.0},\"line_color\":{\"value\":\"black\"},\"line_dash\":[4,4],\"line_width\":{\"value\":2},\"plot\":null,\"render_mode\":\"css\",\"right_units\":\"screen\",\"top_units\":\"screen\"},\"id\":\"1132\",\"type\":\"BoxAnnotation\"},{\"attributes\":{},\"id\":\"1116\",\"type\":\"BasicTicker\"},{\"attributes\":{\"axis_label\":\"pitch (MIDI)\",\"formatter\":{\"id\":\"1149\",\"type\":\"BasicTickFormatter\"},\"plot\":{\"id\":\"1106\",\"subtype\":\"Figure\",\"type\":\"Plot\"},\"ticker\":{\"id\":\"1138\",\"type\":\"SingleIntervalTicker\"}},\"id\":\"1120\",\"type\":\"LinearAxis\"},{\"attributes\":{},\"id\":\"1113\",\"type\":\"LinearScale\"},{\"attributes\":{\"plot\":{\"id\":\"1106\",\"subtype\":\"Figure\",\"type\":\"Plot\"},\"ticker\":{\"id\":\"1116\",\"type\":\"BasicTicker\"}},\"id\":\"1119\",\"type\":\"Grid\"},{\"attributes\":{\"plot\":null,\"text\":\"\"},\"id\":\"1147\",\"type\":\"Title\"},{\"attributes\":{\"axis_label\":\"time (sec)\",\"formatter\":{\"id\":\"1150\",\"type\":\"BasicTickFormatter\"},\"plot\":{\"id\":\"1106\",\"subtype\":\"Figure\",\"type\":\"Plot\"},\"ticker\":{\"id\":\"1116\",\"type\":\"BasicTicker\"}},\"id\":\"1115\",\"type\":\"LinearAxis\"},{\"attributes\":{\"callback\":null,\"data\":{\"bottom\":{\"__ndarray__\":\"ZmZmZmamUEDNzMzMzMxOQGZmZmZmplBAzczMzMzMTkBmZmZmZqZQQM3MzMzMzE5AZmZmZmamUEBmZmZmZqZRQGZmZmZmZlJAZmZmZmbmUUBmZmZmZiZRQGZmZmZm5lFAZmZmZmYmUUBmZmZmZuZRQGZmZmZmJlFAZmZmZmZmUEBmZmZmZiZRQM3MzMzMzE5AZmZmZmamUEBmZmZmZqZQQM3MzMzMTEtAZmZmZmamUUBmZmZmZiZRQGZmZmZmplBAZmZmZmamUEBmZmZmZmZQQGZmZmZmZlBAzczMzMzMTkBmZmZmZiZRQGZmZmZm5lFAZmZmZmZmUEBmZmZmZiZRQGZmZmZmplBAZmZmZmamUEDNzMzMzExLQGZmZmZmplFAZmZmZmYmUUBmZmZmZqZQQGZmZmZmplBAZmZmZmZmUEBmZmZmZmZQQM3MzMzMzE5AZmZmZmYmUUBmZmZmZuZRQGZmZmZmZlBAZmZmZmamUEBmZmZmZqZQQGZmZmZmplBAZmZmZmZmUEDNzMzMzMxPQGZmZmZmZlBAZmZmZmamUEBmZmZmZqZQQGZmZmZmplFAZmZmZmYmUUBmZmZmZqZQQGZmZmZmJlFAZmZmZmamUUBmZmZmZqZRQGZmZmZmZlJAZmZmZmbmUUBmZmZmZqZRQGZmZmZm5lFAZmZmZmZmUkBmZmZmZmZSQGZmZmZm5lJAZmZmZmZmUkBmZmZmZuZRQGZmZmZm5lFAZmZmZmbmUUBmZmZmZuZRQGZmZmZmplFAZmZmZmamUUBmZmZmZqZRQGZmZmZmplFAZmZmZmYmUUBmZmZmZiZRQGZmZmZmJlFAZmZmZmamUEBmZmZmZmZQQM3MzMzMzE9AZmZmZmZmUEBmZmZmZqZQQGZmZmZmJlFAZmZmZmamUUBmZmZmZmZSQGZmZmZm5lJAZmZmZmZmUkBmZmZmZuZRQGZmZmZm5lFAZmZmZmbmUUBmZmZmZuZRQGZmZmZmplFAZmZmZmamUUBmZmZmZqZRQGZmZmZmplFAZmZmZmYmUUBmZmZmZiZRQGZmZmZmJlFAZmZmZmamUEBmZmZmZmZQQM3MzMzMzE9AZmZmZmZmUEBmZmZmZqZQQGZmZmZmJlFAZmZmZmamUUBmZmZmZqZQQGZmZmZmplFAZmZmZmamUEDNzMzMzMxOQM3MzMzMzE9AzczMzMzMTkDNzMzMzExMQM3MzMzMzE5AzczMzMzMTUDNzMzMzMxNQM3MzMzMTE1AzczMzMxMTEDNzMzMzMxOQM3MzMzMzE5AzczMzMzMTkDNzMzMzMxPQM3MzMzMzE9AzczMzMzMTkDNzMzMzMxNQM3MzMzMTE1AzczMzMxMTEDNzMzMzExLQM3MzMzMTEtAzczMzMzMTkDNzMzMzMxPQM3MzMzMzE1AzczMzMzMT0DNzMzMzMxOQM3MzMzMzE1AzczMzMzMTkDNzMzMzMxPQM3MzMzMzE5AzczMzMzMT0BmZmZmZmZQQM3MzMzMzE1AzczMzMzMTkDNzMzMzMxPQGZmZmZmZlBAZmZmZmamUEBmZmZmZiZRQM3MzMzMTE1AzczMzMzMTkDNzMzMzMxNQM3MzMzMTE1AzczMzMxMTEBmZmZmZqZQQGZmZmZmJlFAzczMzMzMTkDNzMzMzMxPQM3MzMzMzE5AzczMzMzMTUDNzMzMzExNQM3MzMzMTExAzczMzMxMTEDNzMzMzExNQM3MzMzMzE9AzczMzMxMTEDNzMzMzMxNQM3MzMzMzE5AzczMzMzMT0DNzMzMzMxOQM3MzMzMzE1AzczMzMxMTEDNzMzMzExNQM3MzMzMTE1AzczMzMxMTEDNzMzMzMxNQA==\",\"dtype\":\"float64\",\"shape\":[173]},\"duration\":{\"__ndarray__\":\"zMzMzMzM7D80MzMzMzPTP87MzMzMzOw/MDMzMzMz0z8wMzMzMzPTPzgzMzMzM9M/MDMzMzMz0z8wMzMzMzPTPzQzMzMzM/M/0MzMzMzM7D8wMzMzMzPTP8jMzMzMzOw/MDMzMzMz0z9AMzMzMzPTPzAzMzMzM9M/MDMzMzMz0z9AMzMzMzPTPzAzMzMzM/M/MDMzMzMz4z8wMzMzMzPjP0AzMzMzM9M/QDMzMzMz0z8gMzMzMzPTP0AzMzMzM9M/IDMzMzMz0z9AMzMzMzPTPzAzMzMzM+M/QDMzMzMz0z8gMzMzMzPTP0AzMzMzM9M/IDMzMzMz0z9AMzMzMzPTP0AzMzMzM9M/MDMzMzMz4z8gMzMzMzPTP0AzMzMzM9M/QDMzMzMz0z9AMzMzMzPTPwAzMzMzM9M/QDMzMzMz0z9AMzMzMzPjP0AzMzMzM9M/ADMzMzMz0z9AMzMzMzPTP0AzMzMzM9M/QDMzMzMz0z9AMzMzMzPTPwAzMzMzM8M/ADMzMzMzwz+AMzMzMzPDPwAzMzMzM8M/QDMzMzMz0z9AMzMzMzPTPwAzMzMzM8M/gDMzMzMzwz8AMzMzMzPDPwAzMzMzM8M/QDMzMzMz0z9AMzMzMzPTPwAzMzMzM8M/gDMzMzMzwz8AMzMzMzPDP4AzMzMzM8M/MDMzMzMz8z8wMzMzMzPzPzAzMzMzM/M/QDMzMzMz0z9AMzMzMzPTP0AzMzMzM9M/ADMzMzMz0z9AMzMzMzPTP0AzMzMzM9M/QDMzMzMz0z8AMzMzMzPTP0AzMzMzM9M/QDMzMzMz0z9AMzMzMzPTP0AzMzMzM9M/ADMzMzMz0z9AMzMzMzPTP0AzMzMzM9M/QDMzMzMz0z8gMzMzMzPjP0AzMzMzM+M/QDMzMzMz8z8gMzMzMzPzP0AzMzMzM/M/ADMzMzMz0z+AMzMzMzPTPwAzMzMzM9M/ADMzMzMz0z+AMzMzMzPTPwAzMzMzM9M/gDMzMzMz0z8AMzMzMzPTPwAzMzMzM9M/gDMzMzMz0z8AMzMzMzPTP4AzMzMzM9M/ADMzMzMz0z8AMzMzMzPTP4AzMzMzM9M/ADMzMzMz0z9AMzMzMzPjP0AzMzMzM+M/IDMzMzMz8z9AMzMzMzPjP0AzMzMzM+M/QDMzMzMz8z8AMzMzMzPTP4AzMzMzM9M/ADMzMzMz0z+AMzMzMzPTPwAzMzMzM9M/ADMzMzMz0z8ANDMzMzPDPwAzMzMzM8M/ADMzMzMzwz/AzMzMzMzwP8DMzMzMzOw/ADMzMzMz0z+AMzMzMzPTPwAzMzMzM9M/gDMzMzMz0z8AMzMzMzPTPwAzMzMzM9M/gDMzMzMz0z8AMzMzMzPTP4AzMzMzM9M/ADMzMzMz0z8AMzMzMzPTP4AzMzMzM9M/ADMzMzMz0z+AMzMzMzPTPwAzMzMzM9M/ADMzMzMz0z8AzczMzMzsPwAzMzMzM8M/ADMzMzMzwz8AMzMzMzPDP8DMzMzMzPA/gDMzMzMz0z8AMzMzMzPTP4AzMzMzM9M/ADMzMzMz0z/AzMzMzMzsPwAzMzMzM8M/ADQzMzMzwz8AMzMzMzPTPwAzMzMzM9M/gDMzMzMz0z8AMzMzMzPTP9DMzMzMzAxAAM3MzMzM7D8AMjMzMzPDPwA0MzMzM8M/ADIzMzMzwz8ANDMzMzPDPwAzMzMzM9M/ADMzMzMz0z8ANDMzMzPTPwAAAAAAAPg/ADMzMzMz0z8AMzMzMzPTPwAzMzMzM9M/QDMzMzMz8z8AMzMzMzPTPwAzMzMzM9M/ADQzMzMz0z8AMzMzMzPTPyAzMzMzMwNAADQzMzMz0z8AMzMzMzPTPw==\",\"dtype\":\"float64\",\"shape\":[173]},\"end_time\":{\"__ndarray__\":\"zMzMzMzM7D8zMzMzMzPzP83MzMzMzABAMzMzMzMzA0CZmZmZmZkFQAAAAAAAAAhAZmZmZmZmCkDMzMzMzMwMQDMzMzMzMxNAzczMzMzMFkAAAAAAAAAYQJmZmZmZmRtAzMzMzMzMHEAAAAAAAAAeQDMzMzMzMx9AMzMzMzMzIEDNzMzMzMwgQDMzMzMzMyNAZmZmZmZmJECZmZmZmZklQDMzMzMzMyZAzczMzMzMJkBmZmZmZmYnQAAAAAAAAChAmZmZmZmZKEAzMzMzMzMpQGZmZmZmZipAAAAAAAAAK0CZmZmZmZkrQDMzMzMzMyxAzMzMzMzMLEBmZmZmZmYtQAAAAAAAAC5AMzMzMzMzL0DMzMzMzMwvQDMzMzMzMzBAAAAAAACAMEDNzMzMzMwwQJmZmZmZGTFAZmZmZmZmMUAAAAAAAAAyQM3MzMzMTDJAmZmZmZmZMkBmZmZmZuYyQDMzMzMzMzNAAAAAAACAM0DNzMzMzMwzQDMzMzMz8zNAmZmZmZkZNEAAAAAAAEA0QGZmZmZmZjRAMzMzMzOzNEAAAAAAAAA1QGZmZmZmJjVAzczMzMxMNUAzMzMzM3M1QJmZmZmZmTVAZmZmZmbmNUAzMzMzMzM2QJmZmZmZWTZAAAAAAACANkBmZmZmZqY2QM3MzMzMzDZAAAAAAAAAOEAzMzMzMzM5QGZmZmZmZjpAMzMzMzOzOkAAAAAAAAA7QM3MzMzMTDtAmZmZmZmZO0BmZmZmZuY7QDMzMzMzMzxAAAAAAACAPEDMzMzMzMw8QJmZmZmZGT1AZmZmZmZmPUAzMzMzM7M9QAAAAAAAAD5AzMzMzMxMPkCZmZmZmZk+QGZmZmZm5j5AMzMzMzMzP0DMzMzMzMw/QDMzMzMzM0BAzczMzMzMQEBmZmZmZmZBQAAAAAAAAEJAZmZmZmYmQkDNzMzMzExCQDMzMzMzc0JAmZmZmZmZQkAAAAAAAMBCQGZmZmZm5kJAzczMzMwMQ0AzMzMzMzNDQJmZmZmZWUNAAAAAAACAQ0BmZmZmZqZDQM3MzMzMzENAMzMzMzPzQ0CZmZmZmRlEQAAAAAAAQERAZmZmZmZmREAzMzMzM7NEQAAAAAAAAEVAmZmZmZmZRUBmZmZmZuZFQDMzMzMzM0ZAzczMzMzMRkCZmZmZmRlHQAAAAAAAQEdAZmZmZmZmR0DNzMzMzIxHQDMzMzMzs0dAmZmZmZnZR0DNzMzMzOxHQAAAAAAAAEhAMzMzMzMTSECZmZmZmZlIQDMzMzMzM0lAmZmZmZlZSUAAAAAAAIBJQGZmZmZmpklAzczMzMzMSUAzMzMzM/NJQJmZmZmZGUpAAAAAAABASkBmZmZmZmZKQM3MzMzMjEpAMzMzMzOzSkCZmZmZmdlKQAAAAAAAAEtAZmZmZmYmS0DNzMzMzExLQDMzMzMzc0tAmZmZmZmZS0DNzMzMzAxMQAAAAAAAIExAMzMzMzMzTEBmZmZmZkZMQMzMzMzMzExAMzMzMzPzTECZmZmZmRlNQAAAAAAAQE1AZmZmZmZmTUCZmZmZmdlNQMzMzMzM7E1AAAAAAAAATkBmZmZmZiZOQMzMzMzMTE5AMzMzMzNzTkCZmZmZmZlOQDMzMzMzM1BAzczMzMxsUEBmZmZmZnZQQAAAAAAAgFBAmZmZmZmJUEAzMzMzM5NQQGZmZmZmplBAmZmZmZm5UEDNzMzMzMxQQM3MzMzMLFFAAAAAAABAUUAzMzMzM1NRQGZmZmZmZlFAMzMzMzOzUUBmZmZmZsZRQJmZmZmZ2VFAzczMzMzsUUAAAAAAAABSQJmZmZmZmVJAzczMzMysUkAAAAAAAMBSQA==\",\"dtype\":\"float64\",\"shape\":[173]},\"fill_alpha\":{\"__ndarray__\":\"AAAAAAAA8D8AAAAAAADwPwAAAAAAAPA/AAAAAAAA8D8AAAAAAADwPwAAAAAAAPA/AAAAAAAA8D8AAAAAAADwPwAAAAAAAPA/AAAAAAAA8D8AAAAAAADwPwAAAAAAAPA/AAAAAAAA8D8AAAAAAADwPwAAAAAAAPA/AAAAAAAA8D8AAAAAAADwPwAAAAAAAPA/AAAAAAAA8D8AAAAAAADwPwAAAAAAAPA/AAAAAAAA8D8AAAAAAADwPwAAAAAAAPA/AAAAAAAA8D8AAAAAAADwPwAAAAAAAPA/AAAAAAAA8D8AAAAAAADwPwAAAAAAAPA/AAAAAAAA8D8AAAAAAADwPwAAAAAAAPA/AAAAAAAA8D8AAAAAAADwPwAAAAAAAPA/AAAAAAAA8D8AAAAAAADwPwAAAAAAAPA/AAAAAAAA8D8AAAAAAADwPwAAAAAAAPA/AAAAAAAA8D8AAAAAAADwPwAAAAAAAPA/AAAAAAAA8D8AAAAAAADwPwAAAAAAAPA/AAAAAAAA8D8AAAAAAADwPwAAAAAAAPA/AAAAAAAA8D8AAAAAAADwPwAAAAAAAPA/AAAAAAAA8D8AAAAAAADwPwAAAAAAAPA/AAAAAAAA8D8AAAAAAADwPwAAAAAAAPA/AAAAAAAA8D8AAAAAAADwPwAAAAAAAPA/AAAAAAAA8D8AAAAAAADwPwAAAAAAAPA/AAAAAAAA8D8AAAAAAADwPwAAAAAAAPA/AAAAAAAA8D8AAAAAAADwPwAAAAAAAPA/AAAAAAAA8D8AAAAAAADwPwAAAAAAAPA/AAAAAAAA8D8AAAAAAADwPwAAAAAAAPA/AAAAAAAA8D8AAAAAAADwPwAAAAAAAPA/AAAAAAAA8D8AAAAAAADwPwAAAAAAAPA/AAAAAAAA8D8AAAAAAADwPwAAAAAAAPA/AAAAAAAA8D8AAAAAAADwPwAAAAAAAPA/AAAAAAAA8D8AAAAAAADwPwAAAAAAAPA/AAAAAAAA8D8AAAAAAADwPwAAAAAAAPA/AAAAAAAA8D8AAAAAAADwPwAAAAAAAPA/AAAAAAAA8D8AAAAAAADwPwAAAAAAAPA/AAAAAAAA8D8AAAAAAADwPwAAAAAAAPA/AAAAAAAA8D8AAAAAAADwPwAAAAAAAPA/AAAAAAAA8D8AAAAAAADwPwAAAAAAAPA/AAAAAAAA8D8AAAAAAADwPwAAAAAAAPA/AAAAAAAA8D8AAAAAAADwPwAAAAAAAPA/AAAAAAAA8D8AAAAAAADwPwAAAAAAAPA/AAAAAAAA8D8AAAAAAADwPwAAAAAAAPA/AAAAAAAA8D8AAAAAAADwPwAAAAAAAPA/AAAAAAAA8D8AAAAAAADwPwAAAAAAAPA/AAAAAAAA8D8AAAAAAADwPwAAAAAAAPA/AAAAAAAA8D8AAAAAAADwPwAAAAAAAPA/AAAAAAAA8D8AAAAAAADwPwAAAAAAAPA/AAAAAAAA8D8AAAAAAADwPwAAAAAAAPA/AAAAAAAA8D8AAAAAAADwPwAAAAAAAPA/AAAAAAAA8D8AAAAAAADwPwAAAAAAAPA/AAAAAAAA8D8AAAAAAADwPwAAAAAAAPA/AAAAAAAA8D8AAAAAAADwPwAAAAAAAPA/AAAAAAAA8D8AAAAAAADwPwAAAAAAAPA/AAAAAAAA8D8AAAAAAADwPwAAAAAAAPA/AAAAAAAA8D8AAAAAAADwPwAAAAAAAPA/AAAAAAAA8D8AAAAAAADwPwAAAAAAAPA/AAAAAAAA8D8AAAAAAADwPwAAAAAAAPA/AAAAAAAA8D8AAAAAAADwPwAAAAAAAPA/AAAAAAAA8D8AAAAAAADwPw==\",\"dtype\":\"float64\",\"shape\":[173]},\"index\":[0,1,2,3,4,5,6,7,8,9,10,11,12,13,14,15,16,17,18,19,20,21,22,23,24,25,26,27,28,29,30,31,32,33,34,35,36,37,38,39,40,41,42,43,44,45,46,47,48,49,50,51,52,53,54,55,56,57,58,59,60,61,62,63,64,65,66,67,68,69,70,71,72,73,74,75,76,77,78,79,80,81,82,83,84,85,86,87,88,89,90,91,92,93,94,95,96,97,98,99,100,101,102,103,104,105,106,107,108,109,110,111,112,113,114,115,116,117,118,119,120,121,122,123,124,125,126,127,128,129,130,131,132,133,134,135,136,137,138,139,140,141,142,143,144,145,146,147,148,149,150,151,152,153,154,155,156,157,158,159,160,161,162,163,164,165,166,167,168,169,170,171,172],\"instrument\":[0,0,0,0,0,0,0,0,0,0,0,0,0,0,0,0,0,0,0,0,0,0,0,0,0,0,0,0,0,0,0,0,0,0,0,0,0,0,0,0,0,0,0,0,0,0,0,0,0,0,0,0,0,0,0,0,0,0,0,0,0,0,0,0,0,0,0,0,0,0,0,0,0,0,0,0,0,0,0,0,0,0,0,0,0,0,0,0,0,0,0,0,0,0,0,0,0,0,0,0,0,0,0,0,0,0,0,0,0,0,0,0,0,0,0,0,0,0,0,0,0,0,0,0,0,0,0,0,0,0,0,0,0,0,0,0,0,0,0,0,0,0,0,0,0,0,0,0,0,0,0,0,0,0,0,0,0,0,0,0,0,0,0,0,0,0,0,0,0,0,0,0,0],\"pitch\":[67,62,67,62,67,62,67,71,74,72,69,72,69,72,69,66,69,62,67,67,55,71,69,67,67,66,66,62,69,72,66,69,67,67,55,71,69,67,67,66,66,62,69,72,66,67,67,67,66,64,66,67,67,71,69,67,69,71,71,74,72,71,72,74,74,76,74,72,72,72,72,71,71,71,71,69,69,69,67,66,64,66,67,69,71,74,76,74,72,72,72,72,71,71,71,71,69,69,69,67,66,64,66,67,69,71,67,71,67,62,64,62,57,62,60,60,59,57,62,62,62,64,64,62,60,59,57,55,55,62,64,60,64,62,60,62,64,62,64,66,60,62,64,66,67,69,59,62,60,59,57,67,69,62,64,62,60,59,57,57,59,64,57,60,62,64,62,60,57,59,59,57,60],\"program\":[0,0,0,0,0,0,0,0,0,0,0,0,0,0,0,0,0,0,0,0,0,0,0,0,0,0,0,0,0,0,0,0,0,0,0,0,0,0,0,0,0,0,0,0,0,0,0,0,0,0,0,0,0,0,0,0,0,0,0,0,0,0,0,0,0,0,0,0,0,0,0,0,0,0,0,0,0,0,0,0,0,0,0,0,0,0,0,0,0,0,0,0,0,0,0,0,0,0,0,0,0,0,0,0,0,0,0,0,0,0,0,0,0,0,0,0,0,0,0,0,0,0,0,0,0,0,0,0,0,0,0,0,0,0,0,0,0,0,0,0,0,0,0,0,0,0,0,0,0,0,0,0,0,0,0,0,0,0,0,0,0,0,0,0,0,0,0,0,0,0,0,0,0],\"start_time\":{\"__ndarray__\":\"AAAAAAAAAADMzMzMzMzsPzMzMzMzM/M/zczMzMzMAEAzMzMzMzMDQJmZmZmZmQVAAAAAAAAACEBmZmZmZmYKQMzMzMzMzAxAMzMzMzMzE0DNzMzMzMwWQAAAAAAAABhAmZmZmZmZG0DMzMzMzMwcQAAAAAAAAB5AMzMzMzMzH0AzMzMzMzMgQM3MzMzMzCBAMzMzMzMzI0BmZmZmZmYkQJmZmZmZmSVAMzMzMzMzJkDNzMzMzMwmQGZmZmZmZidAAAAAAAAAKECZmZmZmZkoQDMzMzMzMylAZmZmZmZmKkAAAAAAAAArQJmZmZmZmStAMzMzMzMzLEDMzMzMzMwsQGZmZmZmZi1AAAAAAAAALkAzMzMzMzMvQMzMzMzMzC9AMzMzMzMzMEAAAAAAAIAwQM3MzMzMzDBAmZmZmZkZMUBmZmZmZmYxQAAAAAAAADJAzczMzMxMMkCZmZmZmZkyQGZmZmZm5jJAMzMzMzMzM0AAAAAAAIAzQM3MzMzMzDNAMzMzMzPzM0CZmZmZmRk0QAAAAAAAQDRAZmZmZmZmNEAzMzMzM7M0QAAAAAAAADVAZmZmZmYmNUDNzMzMzEw1QDMzMzMzczVAmZmZmZmZNUBmZmZmZuY1QDMzMzMzMzZAmZmZmZlZNkAAAAAAAIA2QGZmZmZmpjZAzczMzMzMNkAAAAAAAAA4QDMzMzMzMzlAZmZmZmZmOkAzMzMzM7M6QAAAAAAAADtAzczMzMxMO0CZmZmZmZk7QGZmZmZm5jtAMzMzMzMzPEAAAAAAAIA8QMzMzMzMzDxAmZmZmZkZPUBmZmZmZmY9QDMzMzMzsz1AAAAAAAAAPkDMzMzMzEw+QJmZmZmZmT5AZmZmZmbmPkAzMzMzMzM/QMzMzMzMzD9AMzMzMzMzQEDNzMzMzMxAQGZmZmZmZkFAAAAAAAAAQkBmZmZmZiZCQM3MzMzMTEJAMzMzMzNzQkCZmZmZmZlCQAAAAAAAwEJAZmZmZmbmQkDNzMzMzAxDQDMzMzMzM0NAmZmZmZlZQ0AAAAAAAIBDQGZmZmZmpkNAzczMzMzMQ0AzMzMzM/NDQJmZmZmZGURAAAAAAABAREBmZmZmZmZEQDMzMzMzs0RAAAAAAAAARUCZmZmZmZlFQGZmZmZm5kVAMzMzMzMzRkAzMzMzM/NGQJmZmZmZGUdAAAAAAABAR0BmZmZmZmZHQM3MzMzMjEdAMzMzMzOzR0CZmZmZmdlHQM3MzMzM7EdAAAAAAAAASEAzMzMzMxNIQAAAAAAAwEhAMzMzMzMzSUCZmZmZmVlJQAAAAAAAgElAZmZmZmamSUDNzMzMzMxJQDMzMzMz80lAmZmZmZkZSkAAAAAAAEBKQGZmZmZmZkpAzczMzMyMSkAzMzMzM7NKQJmZmZmZ2UpAAAAAAAAAS0BmZmZmZiZLQM3MzMzMTEtAMzMzMzNzS0CZmZmZmZlLQM3MzMzMDExAAAAAAAAgTEAzMzMzMzNMQGZmZmZmRkxAzMzMzMzMTEAzMzMzM/NMQJmZmZmZGU1AAAAAAABATUBmZmZmZmZNQJmZmZmZ2U1AzMzMzMzsTUAAAAAAAABOQGZmZmZmJk5AzMzMzMxMTkAzMzMzM3NOQJmZmZmZmU5AMzMzMzMzUEDNzMzMzGxQQGZmZmZmdlBAAAAAAACAUECZmZmZmYlQQDMzMzMzk1BAZmZmZmamUECZmZmZmblQQM3MzMzMzFBAzczMzMwsUUAAAAAAAEBRQDMzMzMzU1FAZmZmZmZmUUAzMzMzM7NRQGZmZmZmxlFAmZmZmZnZUUDNzMzMzOxRQAAAAAAAAFJAmZmZmZmZUkDNzMzMzKxSQA==\",\"dtype\":\"float64\",\"shape\":[173]},\"top\":{\"__ndarray__\":\"mpmZmZnZUEAzMzMzMzNPQJqZmZmZ2VBAMzMzMzMzT0CamZmZmdlQQDMzMzMzM09AmpmZmZnZUECamZmZmdlRQJqZmZmZmVJAmpmZmZkZUkCamZmZmVlRQJqZmZmZGVJAmpmZmZlZUUCamZmZmRlSQJqZmZmZWVFAmpmZmZmZUECamZmZmVlRQDMzMzMzM09AmpmZmZnZUECamZmZmdlQQDMzMzMzs0tAmpmZmZnZUUCamZmZmVlRQJqZmZmZ2VBAmpmZmZnZUECamZmZmZlQQJqZmZmZmVBAMzMzMzMzT0CamZmZmVlRQJqZmZmZGVJAmpmZmZmZUECamZmZmVlRQJqZmZmZ2VBAmpmZmZnZUEAzMzMzM7NLQJqZmZmZ2VFAmpmZmZlZUUCamZmZmdlQQJqZmZmZ2VBAmpmZmZmZUECamZmZmZlQQDMzMzMzM09AmpmZmZlZUUCamZmZmRlSQJqZmZmZmVBAmpmZmZnZUECamZmZmdlQQJqZmZmZ2VBAmpmZmZmZUECamZmZmRlQQJqZmZmZmVBAmpmZmZnZUECamZmZmdlQQJqZmZmZ2VFAmpmZmZlZUUCamZmZmdlQQJqZmZmZWVFAmpmZmZnZUUCamZmZmdlRQJqZmZmZmVJAmpmZmZkZUkCamZmZmdlRQJqZmZmZGVJAmpmZmZmZUkCamZmZmZlSQJqZmZmZGVNAmpmZmZmZUkCamZmZmRlSQJqZmZmZGVJAmpmZmZkZUkCamZmZmRlSQJqZmZmZ2VFAmpmZmZnZUUCamZmZmdlRQJqZmZmZ2VFAmpmZmZlZUUCamZmZmVlRQJqZmZmZWVFAmpmZmZnZUECamZmZmZlQQJqZmZmZGVBAmpmZmZmZUECamZmZmdlQQJqZmZmZWVFAmpmZmZnZUUCamZmZmZlSQJqZmZmZGVNAmpmZmZmZUkCamZmZmRlSQJqZmZmZGVJAmpmZmZkZUkCamZmZmRlSQJqZmZmZ2VFAmpmZmZnZUUCamZmZmdlRQJqZmZmZ2VFAmpmZmZlZUUCamZmZmVlRQJqZmZmZWVFAmpmZmZnZUECamZmZmZlQQJqZmZmZGVBAmpmZmZmZUECamZmZmdlQQJqZmZmZWVFAmpmZmZnZUUCamZmZmdlQQJqZmZmZ2VFAmpmZmZnZUEAzMzMzMzNPQJqZmZmZGVBAMzMzMzMzT0AzMzMzM7NMQDMzMzMzM09AMzMzMzMzTkAzMzMzMzNOQDMzMzMzs01AMzMzMzOzTEAzMzMzMzNPQDMzMzMzM09AMzMzMzMzT0CamZmZmRlQQJqZmZmZGVBAMzMzMzMzT0AzMzMzMzNOQDMzMzMzs01AMzMzMzOzTEAzMzMzM7NLQDMzMzMzs0tAMzMzMzMzT0CamZmZmRlQQDMzMzMzM05AmpmZmZkZUEAzMzMzMzNPQDMzMzMzM05AMzMzMzMzT0CamZmZmRlQQDMzMzMzM09AmpmZmZkZUECamZmZmZlQQDMzMzMzM05AMzMzMzMzT0CamZmZmRlQQJqZmZmZmVBAmpmZmZnZUECamZmZmVlRQDMzMzMzs01AMzMzMzMzT0AzMzMzMzNOQDMzMzMzs01AMzMzMzOzTECamZmZmdlQQJqZmZmZWVFAMzMzMzMzT0CamZmZmRlQQDMzMzMzM09AMzMzMzMzTkAzMzMzM7NNQDMzMzMzs0xAMzMzMzOzTEAzMzMzM7NNQJqZmZmZGVBAMzMzMzOzTEAzMzMzMzNOQDMzMzMzM09AmpmZmZkZUEAzMzMzMzNPQDMzMzMzM05AMzMzMzOzTEAzMzMzM7NNQDMzMzMzs01AMzMzMzOzTEAzMzMzMzNOQA==\",\"dtype\":\"float64\",\"shape\":[173]},\"velocity\":[100,100,100,100,100,100,100,100,100,100,100,100,100,100,100,100,100,100,100,100,100,100,100,100,100,100,100,100,100,100,100,100,100,100,100,100,100,100,100,100,100,100,100,100,100,100,100,100,100,100,100,100,100,100,100,100,100,100,100,100,100,100,100,100,100,100,100,100,100,100,100,100,100,100,100,100,100,100,100,100,100,100,100,100,100,100,100,100,100,100,100,100,100,100,100,100,100,100,100,100,100,100,100,100,100,100,100,100,100,100,100,100,100,100,100,100,100,100,100,100,100,100,100,100,100,100,100,100,100,100,100,100,100,100,100,100,100,100,100,100,100,100,100,100,100,100,100,100,100,100,100,100,100,100,100,100,100,100,100,100,100,100,100,100,100,100,100,100,100,100,100,100,100]},\"selected\":{\"id\":\"1152\",\"type\":\"Selection\"},\"selection_policy\":{\"id\":\"1153\",\"type\":\"UnionRenderers\"}},\"id\":\"1141\",\"type\":\"ColumnDataSource\"}],\"root_ids\":[\"1106\"]},\"title\":\"Bokeh Application\",\"version\":\"1.0.4\"}};\n",
              "  var render_items = [{\"docid\":\"cf29d3ac-800d-4d0c-ad3e-a8d6bf03dd57\",\"roots\":{\"1106\":\"5568e07b-af85-4e07-8839-f2838efdcd81\"}}];\n",
              "  root.Bokeh.embed.embed_items_notebook(docs_json, render_items);\n",
              "\n",
              "  }\n",
              "  if (root.Bokeh !== undefined) {\n",
              "    embed_document(root);\n",
              "  } else {\n",
              "    var attempts = 0;\n",
              "    var timer = setInterval(function(root) {\n",
              "      if (root.Bokeh !== undefined) {\n",
              "        embed_document(root);\n",
              "        clearInterval(timer);\n",
              "      }\n",
              "      attempts++;\n",
              "      if (attempts > 100) {\n",
              "        console.log(\"Bokeh: ERROR: Unable to run BokehJS code because BokehJS library is missing\");\n",
              "        clearInterval(timer);\n",
              "      }\n",
              "    }, 10, root)\n",
              "  }\n",
              "})(window);"
            ],
            "application/vnd.bokehjs_exec.v0+json": ""
          },
          "metadata": {
            "tags": [],
            "application/vnd.bokehjs_exec.v0+json": {
              "id": "1106"
            }
          }
        },
        {
          "output_type": "display_data",
          "data": {
            "text/html": [
              "<div id=\"id_2\"> </div>"
            ],
            "text/plain": [
              "<IPython.core.display.HTML object>"
            ]
          },
          "metadata": {
            "tags": []
          }
        }
      ]
    },
    {
      "cell_type": "code",
      "metadata": {
        "id": "OJgEk8dgKqMG",
        "colab_type": "code",
        "colab": {}
      },
      "source": [
        ""
      ],
      "execution_count": 0,
      "outputs": []
    }
  ]
}